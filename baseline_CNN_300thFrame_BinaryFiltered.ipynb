{
 "cells": [
  {
   "cell_type": "markdown",
   "metadata": {},
   "source": [
    "## Current baseline:"
   ]
  },
  {
   "cell_type": "code",
   "execution_count": null,
   "metadata": {},
   "outputs": [],
   "source": [
    "#import sys\n",
    "#!{sys.executable} -m pip install -r requirements.txt"
   ]
  },
  {
   "cell_type": "code",
   "execution_count": 1,
   "metadata": {},
   "outputs": [],
   "source": [
    "import matplotlib.pyplot as plt"
   ]
  },
  {
   "cell_type": "code",
   "execution_count": 2,
   "metadata": {},
   "outputs": [],
   "source": [
    "from problem import get_train_data, get_test_data, WeightedClassificationError"
   ]
  },
  {
   "cell_type": "code",
   "execution_count": 3,
   "metadata": {},
   "outputs": [],
   "source": [
    "import numpy as np\n",
    "import tensorflow as tf\n",
    "from time import time\n",
    "import pandas as pd\n",
    "import math"
   ]
  },
  {
   "cell_type": "code",
   "execution_count": 4,
   "metadata": {},
   "outputs": [],
   "source": [
    "videos_train, labels_train = get_train_data()"
   ]
  },
  {
   "cell_type": "code",
   "execution_count": 5,
   "metadata": {},
   "outputs": [
    {
     "data": {
      "text/plain": [
       "177"
      ]
     },
     "execution_count": 5,
     "metadata": {},
     "output_type": "execute_result"
    }
   ],
   "source": [
    "len(videos_train)"
   ]
  },
  {
   "cell_type": "markdown",
   "metadata": {},
   "source": [
    "## TOOLS"
   ]
  },
  {
   "cell_type": "code",
   "execution_count": 6,
   "metadata": {},
   "outputs": [],
   "source": [
    "def plot_slices(num_rows, num_columns, width, height, data):\n",
    "    \"\"\"Plot a montage of 20 CT slices\"\"\"\n",
    "    data = np.rot90(np.array(data))\n",
    "    data = np.transpose(data)\n",
    "    data = np.reshape(data, (num_rows, num_columns, width, height))\n",
    "    rows_data, columns_data = data.shape[0], data.shape[1]\n",
    "    heights = [slc[0].shape[0] for slc in data]\n",
    "    widths = [slc.shape[1] for slc in data[0]]\n",
    "    fig_width = 12.0\n",
    "    fig_height = fig_width * sum(heights) / sum(widths)\n",
    "    f, axarr = plt.subplots(\n",
    "        rows_data,\n",
    "        columns_data,\n",
    "        figsize=(fig_width, fig_height),\n",
    "        gridspec_kw={\"height_ratios\": heights},\n",
    "    )\n",
    "    for i in range(rows_data):\n",
    "        for j in range(columns_data):\n",
    "            axarr[i, j].imshow(data[i][j], cmap=\"gray\")\n",
    "            axarr[i, j].axis(\"off\")\n",
    "    plt.subplots_adjust(wspace=0, hspace=0, left=0, right=1, bottom=0, top=1)\n",
    "    plt.show()\n",
    "\n",
    "\n",
    "# Visualize frames in a video.\n",
    "# 3 rows and 10 columns for 30 frames of a video.\n",
    "#\n",
    "# idx=0\n",
    "# vid= X_for_classifier[idx][:,:,:]\n",
    "# plot_slices(3, 10, 224, 224, l)\n",
    "# print(int_to_class(train_labels[idx]))"
   ]
  },
  {
   "cell_type": "code",
   "execution_count": null,
   "metadata": {},
   "outputs": [],
   "source": []
  },
  {
   "cell_type": "code",
   "execution_count": 7,
   "metadata": {},
   "outputs": [],
   "source": [
    "from PIL import Image\n",
    "\n",
    "#####CLEEEEEEEAN !!!\n",
    "def resize_frames(video):\n",
    "    res=[]\n",
    "    for frame in video:\n",
    "        resized_img=Image.fromarray(frame).resize((224,224))\n",
    "        res.append(np.array(resized_img))\n",
    "    return np.array(res)"
   ]
  },
  {
   "cell_type": "code",
   "execution_count": 8,
   "metadata": {},
   "outputs": [],
   "source": [
    "#Filtering only class A and class H\n",
    "def filter(filters,x,y):\n",
    "    rx=x.copy()\n",
    "    ry=y.copy()\n",
    "    ry=list(ry)\n",
    "    \n",
    "    df = pd.DataFrame({'labels':ry,'features':rx})\n",
    "    df = df[~df.labels.isin(filters)]\n",
    "    ry = df['labels'].tolist()\n",
    "    rx = df['features'].tolist()\n",
    "    \n",
    "    return rx,ry"
   ]
  },
  {
   "cell_type": "code",
   "execution_count": null,
   "metadata": {},
   "outputs": [],
   "source": []
  },
  {
   "cell_type": "code",
   "execution_count": 9,
   "metadata": {},
   "outputs": [],
   "source": [
    "filters= ['B','C','D','E','F','G']\n",
    "a,b=filter(filters,videos_train, labels_train)\n",
    "videos_train= a\n",
    "labels_train= np.array(b)"
   ]
  },
  {
   "cell_type": "code",
   "execution_count": 10,
   "metadata": {},
   "outputs": [],
   "source": [
    "#transforming the data set: each observation now correponds the nth observation\n",
    "def nth_frame(videolist, n):\n",
    "    n = 300\n",
    "    nth_frames=[]\n",
    "    i=0\n",
    "    for video in videolist:\n",
    "        i+=1\n",
    "        time= video.frame_times[n-1]\n",
    "        frame= video.read_frame(time)\n",
    "        nth_frames.append(frame)\n",
    "    return nth_frames"
   ]
  },
  {
   "cell_type": "code",
   "execution_count": 11,
   "metadata": {},
   "outputs": [],
   "source": [
    "def create_dataset(startFrame, endFrame, x, y):\n",
    "    xres= nth_frame(x,startFrame)\n",
    "    yres= np.array(y)\n",
    "    for i in range(startFrame+1, endFrame+1):\n",
    "        temp= nth_frame(x,i)\n",
    "        xres+= temp\n",
    "        yres= np.append(yres,np.array(y))\n",
    "    return xres,yres"
   ]
  },
  {
   "cell_type": "code",
   "execution_count": 12,
   "metadata": {
    "scrolled": false
   },
   "outputs": [],
   "source": [
    "builtx, builty= create_dataset(300,300, videos_train, labels_train)"
   ]
  },
  {
   "cell_type": "code",
   "execution_count": 13,
   "metadata": {},
   "outputs": [],
   "source": [
    "X_for_classifier=np.array(builtx)"
   ]
  },
  {
   "cell_type": "code",
   "execution_count": 14,
   "metadata": {},
   "outputs": [],
   "source": [
    "X_for_classifier=resize_frames(X_for_classifier)\n",
    "y_for_classifier= builty"
   ]
  },
  {
   "cell_type": "code",
   "execution_count": 15,
   "metadata": {},
   "outputs": [
    {
     "data": {
      "text/plain": [
       "(1, 62, 224, 224)"
      ]
     },
     "execution_count": 15,
     "metadata": {},
     "output_type": "execute_result"
    }
   ],
   "source": [
    "X_for_classifier[None, ...].shape"
   ]
  },
  {
   "cell_type": "code",
   "execution_count": 16,
   "metadata": {},
   "outputs": [],
   "source": [
    "#temp fix to make it work with MobileNetV2\n",
    "\n",
    "grayscale_batch=X_for_classifier\n",
    "rgb_batch = np.repeat(grayscale_batch[...,np.newaxis], 3, -1)\n"
   ]
  },
  {
   "cell_type": "code",
   "execution_count": 17,
   "metadata": {},
   "outputs": [],
   "source": [
    "X_for_classifier= rgb_batch"
   ]
  },
  {
   "cell_type": "code",
   "execution_count": 18,
   "metadata": {},
   "outputs": [
    {
     "data": {
      "text/plain": [
       "(62, 224, 224, 3)"
      ]
     },
     "execution_count": 18,
     "metadata": {},
     "output_type": "execute_result"
    }
   ],
   "source": [
    "X_for_classifier.shape"
   ]
  },
  {
   "cell_type": "code",
   "execution_count": 19,
   "metadata": {},
   "outputs": [],
   "source": [
    "#test after transformation: prints all images of dataset\n",
    "#for i in range(0,176):\n",
    "#    plt.imshow(X_for_classifier[i], cmap='gray')\n",
    "#    title_obj = plt.title(y_for_classifier[i]) \n",
    "#    plt.axis('off')\n",
    "#    plt.show()\n"
   ]
  },
  {
   "cell_type": "code",
   "execution_count": 20,
   "metadata": {},
   "outputs": [],
   "source": [
    "def class_to_int(argument):\n",
    "    switcher = {\n",
    "        'A':0,\n",
    "        'B':0,\n",
    "        'C':0,\n",
    "        'D':0,\n",
    "        'E':1,\n",
    "        'F':1,\n",
    "        'G':1,\n",
    "        'H':1,\n",
    "    }\n",
    " \n",
    "    # get() method of dictionary data type returns\n",
    "    # value of passed argument if it is present\n",
    "    # in dictionary otherwise second argument will\n",
    "    # be assigned as default value of passed argument\n",
    "    return switcher.get(argument, \"nothing\")\n",
    " "
   ]
  },
  {
   "cell_type": "code",
   "execution_count": 21,
   "metadata": {},
   "outputs": [],
   "source": [
    "func=np.vectorize(class_to_int)\n",
    "y_for_classifier=func(y_for_classifier)"
   ]
  },
  {
   "cell_type": "code",
   "execution_count": 22,
   "metadata": {
    "scrolled": true
   },
   "outputs": [
    {
     "data": {
      "text/plain": [
       "array([1, 1, 0, 1, 0, 0, 0, 1, 1, 1, 1, 1, 1, 1, 0, 0, 1, 1, 1, 1, 1, 1,\n",
       "       1, 1, 0, 0, 0, 0, 0, 0, 0, 0, 0, 1, 1, 1, 1, 1, 1, 0, 1, 1, 1, 1,\n",
       "       1, 1, 1, 1, 1, 1, 1, 1, 0, 1, 1, 1, 0, 1, 1, 1, 1, 1])"
      ]
     },
     "execution_count": 22,
     "metadata": {},
     "output_type": "execute_result"
    }
   ],
   "source": [
    "y_for_classifier"
   ]
  },
  {
   "cell_type": "code",
   "execution_count": 23,
   "metadata": {},
   "outputs": [],
   "source": [
    "\n",
    "#import numpy as np\n",
    "\n",
    "\n",
    "#class VideoClassifier(object):\n",
    "#    def __init__(self):\n",
    "#        pass\n",
    "\n",
    "#    def fit(self, videos: list, y, pred_time: float):\n",
    "#        classes = [\"A\", \"B\", \"C\", \"D\", \"E\", \"F\", \"G\", \"H\"]\n",
    "#        self.n_classes = len(classes)\n",
    "#        print(type(self))\n",
    "#        pass\n",
    "\n",
    "#    def predict(self, videos: list, pred_time: float):\n",
    "#        proba = np.random.rand(len(videos), self.n_classes)\n",
    "#        proba /= proba.sum(axis=1)[:, np.newaxis]\n",
    "#        return proba\n",
    "\n"
   ]
  },
  {
   "cell_type": "markdown",
   "metadata": {},
   "source": [
    "## Data Augmentation with Keras ImageDataGenerator"
   ]
  },
  {
   "cell_type": "code",
   "execution_count": 52,
   "metadata": {},
   "outputs": [],
   "source": [
    "datagen = tf.keras.preprocessing.image.ImageDataGenerator(\n",
    "        #rescale=1./255, \n",
    "        rotation_range=30, fill_mode='nearest'\n",
    "        #width_shift_range=0.1, height_shift_range=0.1,\n",
    "        #horizontal_flip=True,\n",
    "        #vertical_flip=True,\n",
    "        #brightness_range=[0.8,1.2] #above 1 light , below darkens\n",
    ")"
   ]
  },
  {
   "cell_type": "code",
   "execution_count": 53,
   "metadata": {},
   "outputs": [],
   "source": [
    "zero=X_for_classifier[0:1]"
   ]
  },
  {
   "cell_type": "code",
   "execution_count": 54,
   "metadata": {},
   "outputs": [
    {
     "data": {
      "text/plain": [
       "array([5, 5, 5], dtype=uint8)"
      ]
     },
     "execution_count": 54,
     "metadata": {},
     "output_type": "execute_result"
    }
   ],
   "source": [
    "zero[0][0][0]"
   ]
  },
  {
   "cell_type": "code",
   "execution_count": 55,
   "metadata": {},
   "outputs": [
    {
     "data": {
      "text/plain": [
       "(-0.5, 223.5, 223.5, -0.5)"
      ]
     },
     "execution_count": 55,
     "metadata": {},
     "output_type": "execute_result"
    },
    {
     "data": {
      "image/png": "[encoded data removed]",
      "text/plain": [
       "<Figure size 432x288 with 1 Axes>"
      ]
     },
     "metadata": {
      "needs_background": "light"
     },
     "output_type": "display_data"
    }
   ],
   "source": [
    "plt.imshow(zero[0])\n",
    "plt.axis('off')"
   ]
  },
  {
   "cell_type": "code",
   "execution_count": 56,
   "metadata": {},
   "outputs": [
    {
     "data": {
      "text/plain": [
       "(224, 224, 3)"
      ]
     },
     "execution_count": 56,
     "metadata": {},
     "output_type": "execute_result"
    }
   ],
   "source": [
    "zero[0].shape"
   ]
  },
  {
   "cell_type": "code",
   "execution_count": 57,
   "metadata": {},
   "outputs": [],
   "source": [
    "zeroaug=datagen.flow(zero, batch_size=1)"
   ]
  },
  {
   "cell_type": "code",
   "execution_count": 58,
   "metadata": {
    "scrolled": true
   },
   "outputs": [
    {
     "name": "stdout",
     "output_type": "stream",
     "text": [
      "hello\n",
      "hello\n",
      "hello\n"
     ]
    },
    {
     "data": {
      "image/png": "[encoded data removed]",
      "text/plain": [
       "<Figure size 1080x1080 with 3 Axes>"
      ]
     },
     "metadata": {
      "needs_background": "light"
     },
     "output_type": "display_data"
    }
   ],
   "source": [
    "fig, ax = plt.subplots(nrows=1, ncols=3, figsize=(15,15))\n",
    "\n",
    "for i in range(3):\n",
    "    image= next(zeroaug)[0].astype('uint8')\n",
    "    plt.imshow(image)\n",
    "    plt.axis('off')\n",
    "    print(\"hello\")"
   ]
  },
  {
   "cell_type": "code",
   "execution_count": 59,
   "metadata": {},
   "outputs": [],
   "source": [
    "img= zero"
   ]
  },
  {
   "cell_type": "code",
   "execution_count": null,
   "metadata": {},
   "outputs": [],
   "source": [
    "# ImageDataGenerator flipping\n",
    "datagen =  tf.keras.preprocessing.image.ImageDataGenerator(horizontal_flip=True, vertical_flip=True)\n",
    "\n",
    "# iterator\n",
    "aug_iter = datagen.flow(img, batch_size=1)\n",
    "\n",
    "# generate samples and plot\n",
    "fig, ax = plt.subplots(nrows=1, ncols=3, figsize=(15,15))\n",
    "\n",
    "# generate batch of images\n",
    "for i in range(3):\n",
    "\n",
    "\t# convert to unsigned integers\n",
    "\timage = next(aug_iter)[0].astype('uint8')\n",
    " \n",
    "\t# plot image\n",
    "\tax[i].imshow(image)\n",
    "\tax[i].axis('off')"
   ]
  },
  {
   "cell_type": "code",
   "execution_count": 60,
   "metadata": {},
   "outputs": [],
   "source": [
    "XY_classifier_augmented= datagen.flow(X_for_classifier, y_for_classifier, batch_size=32)"
   ]
  },
  {
   "cell_type": "code",
   "execution_count": 61,
   "metadata": {},
   "outputs": [
    {
     "data": {
      "text/plain": [
       "array([1, 0, 0, 1, 1, 1, 1, 1, 1, 0, 1, 0, 1, 0, 0, 0, 1, 1, 0, 1, 0, 0,\n",
       "       1, 1, 1, 0, 1, 1, 0, 0, 1, 0])"
      ]
     },
     "execution_count": 61,
     "metadata": {},
     "output_type": "execute_result"
    }
   ],
   "source": [
    "(next(XY_classifier_augmented))[1]"
   ]
  },
  {
   "cell_type": "code",
   "execution_count": 62,
   "metadata": {},
   "outputs": [
    {
     "name": "stdout",
     "output_type": "stream",
     "text": [
      "(224, 224, 3)\n"
     ]
    },
    {
     "data": {
      "text/plain": [
       "(-0.5, 223.5, 223.5, -0.5)"
      ]
     },
     "execution_count": 62,
     "metadata": {},
     "output_type": "execute_result"
    },
    {
     "data": {
      "image/png": "[encoded data removed]",
      "text/plain": [
       "<Figure size 432x288 with 1 Axes>"
      ]
     },
     "metadata": {
      "needs_background": "light"
     },
     "output_type": "display_data"
    }
   ],
   "source": [
    "batch= next(XY_classifier_augmented)[0]\n",
    "image=batch[2].astype('uint8')\n",
    "print(image.shape)\n",
    "plt.imshow(image)\n",
    "plt.axis('off')"
   ]
  },
  {
   "cell_type": "code",
   "execution_count": null,
   "metadata": {},
   "outputs": [],
   "source": [
    "#fig, ax = plt.subplots(nrows=1, ncols=3, figsize=(15,15))\n",
    "\n",
    "#for i in :\n",
    "\n",
    "    # convert to unsigned integers\n",
    "batch = next(XY_classifier_augmented)[0].astype('uint8')\n",
    " \n",
    "    # plot image\n",
    "    #ax[i].\n",
    "for image in batch:\n",
    "    plt.imshow(image)\n",
    "    plt.axis('off')"
   ]
  },
  {
   "cell_type": "markdown",
   "metadata": {},
   "source": [
    "## new Baseline test"
   ]
  },
  {
   "cell_type": "markdown",
   "metadata": {},
   "source": [
    "### predefined pred times:"
   ]
  },
  {
   "cell_type": "markdown",
   "metadata": {},
   "source": [
    " ensuring that only frames up to pred_times are used for model training and testing. None is the whole 300 frames."
   ]
  },
  {
   "cell_type": "code",
   "execution_count": 32,
   "metadata": {},
   "outputs": [],
   "source": [
    "pred_times = [27, 32, 37, 40, 44, 48, 53, 58, 63, 94, None]"
   ]
  },
  {
   "cell_type": "markdown",
   "metadata": {},
   "source": [
    "### Build the model"
   ]
  },
  {
   "cell_type": "code",
   "execution_count": 33,
   "metadata": {},
   "outputs": [
    {
     "name": "stdout",
     "output_type": "stream",
     "text": [
      "Model: \"model\"\n",
      "_________________________________________________________________\n",
      " Layer (type)                Output Shape              Param #   \n",
      "=================================================================\n",
      " input_2 (InputLayer)        [(None, 224, 224, 3)]     0         \n",
      "                                                                 \n",
      " tf.math.truediv (TFOpLambda  (None, 224, 224, 3)      0         \n",
      " )                                                               \n",
      "                                                                 \n",
      " tf.math.subtract (TFOpLambd  (None, 224, 224, 3)      0         \n",
      " a)                                                              \n",
      "                                                                 \n",
      " mobilenetv2_1.00_224 (Funct  (None, 7, 7, 1280)       2257984   \n",
      " ional)                                                          \n",
      "                                                                 \n",
      " global_average_pooling2d (G  (None, 1280)             0         \n",
      " lobalAveragePooling2D)                                          \n",
      "                                                                 \n",
      " dropout (Dropout)           (None, 1280)              0         \n",
      "                                                                 \n",
      " dense (Dense)               (None, 2)                 2562      \n",
      "                                                                 \n",
      "=================================================================\n",
      "Total params: 2,260,546\n",
      "Trainable params: 2,562\n",
      "Non-trainable params: 2,257,984\n",
      "_________________________________________________________________\n"
     ]
    }
   ],
   "source": [
    "# Image shape for classifier\n",
    "IMG_SHAPE = (224,224,3)\n",
    "\n",
    "# Building of a classification model\n",
    "base_model = tf.keras.applications.MobileNetV2(\n",
    "        input_shape=IMG_SHAPE, include_top=False, weights=\"imagenet\"\n",
    "    )\n",
    "base_model.trainable = False\n",
    "inputs = tf.keras.Input(shape=IMG_SHAPE)\n",
    "preprocess_input = tf.keras.applications.mobilenet_v2.preprocess_input\n",
    "global_average_layer = tf.keras.layers.GlobalAveragePooling2D()\n",
    "prediction_layer = tf.keras.layers.Dense(2, activation=\"sigmoid\")\n",
    "x = preprocess_input(inputs)\n",
    "x = base_model(x, training=False)\n",
    "x = global_average_layer(x)\n",
    "x = tf.keras.layers.Dropout(0.2)(x)\n",
    "outputs = prediction_layer(x)\n",
    "model = tf.keras.Model(inputs, outputs)\n",
    "model.compile(\n",
    "    optimizer=tf.keras.optimizers.Adam(learning_rate=0.0001),\n",
    "    loss=tf.keras.losses.SparseCategoricalCrossentropy(),\n",
    "    metrics=[\"sparse_categorical_accuracy\"],\n",
    ")\n",
    "\n",
    "model.summary()\n"
   ]
  },
  {
   "cell_type": "code",
   "execution_count": 63,
   "metadata": {
    "scrolled": true
   },
   "outputs": [
    {
     "name": "stdout",
     "output_type": "stream",
     "text": [
      "Epoch 1/100\n",
      "2/2 [==============================] - 1s 33ms/step - loss: 0.4615 - sparse_categorical_accuracy: 0.7742\n",
      "Epoch 2/100\n",
      "2/2 [==============================] - 0s 168ms/step - loss: 0.4409 - sparse_categorical_accuracy: 0.8065\n",
      "Epoch 3/100\n",
      "2/2 [==============================] - 0s 185ms/step - loss: 0.4626 - sparse_categorical_accuracy: 0.7903\n",
      "Epoch 4/100\n",
      "2/2 [==============================] - 0s 182ms/step - loss: 0.4402 - sparse_categorical_accuracy: 0.8226\n",
      "Epoch 5/100\n",
      "2/2 [==============================] - 0s 164ms/step - loss: 0.4570 - sparse_categorical_accuracy: 0.7581\n",
      "Epoch 6/100\n",
      "2/2 [==============================] - 0s 162ms/step - loss: 0.4771 - sparse_categorical_accuracy: 0.7581\n",
      "Epoch 7/100\n",
      "2/2 [==============================] - 0s 181ms/step - loss: 0.4478 - sparse_categorical_accuracy: 0.8226\n",
      "Epoch 8/100\n",
      "2/2 [==============================] - 0s 187ms/step - loss: 0.4178 - sparse_categorical_accuracy: 0.8226\n",
      "Epoch 9/100\n",
      "2/2 [==============================] - 0s 189ms/step - loss: 0.4278 - sparse_categorical_accuracy: 0.7742\n",
      "Epoch 10/100\n",
      "2/2 [==============================] - 0s 165ms/step - loss: 0.3874 - sparse_categorical_accuracy: 0.8710\n",
      "Epoch 11/100\n",
      "2/2 [==============================] - 0s 160ms/step - loss: 0.4919 - sparse_categorical_accuracy: 0.7742\n",
      "Epoch 12/100\n",
      "2/2 [==============================] - 0s 164ms/step - loss: 0.4280 - sparse_categorical_accuracy: 0.7742\n",
      "Epoch 13/100\n",
      "2/2 [==============================] - 0s 186ms/step - loss: 0.4406 - sparse_categorical_accuracy: 0.7903\n",
      "Epoch 14/100\n",
      "2/2 [==============================] - 0s 182ms/step - loss: 0.3986 - sparse_categorical_accuracy: 0.8387\n",
      "Epoch 15/100\n",
      "2/2 [==============================] - 0s 188ms/step - loss: 0.4385 - sparse_categorical_accuracy: 0.7419\n",
      "Epoch 16/100\n",
      "2/2 [==============================] - 1s 156ms/step - loss: 0.3457 - sparse_categorical_accuracy: 0.7903\n",
      "Epoch 17/100\n",
      "2/2 [==============================] - 0s 198ms/step - loss: 0.4007 - sparse_categorical_accuracy: 0.7903\n",
      "Epoch 18/100\n",
      "2/2 [==============================] - 0s 190ms/step - loss: 0.4491 - sparse_categorical_accuracy: 0.7419\n",
      "Epoch 19/100\n",
      "2/2 [==============================] - 0s 193ms/step - loss: 0.4132 - sparse_categorical_accuracy: 0.7581\n",
      "Epoch 20/100\n",
      "2/2 [==============================] - 0s 196ms/step - loss: 0.3990 - sparse_categorical_accuracy: 0.8710\n",
      "Epoch 21/100\n",
      "2/2 [==============================] - 0s 184ms/step - loss: 0.4104 - sparse_categorical_accuracy: 0.8387\n",
      "Epoch 22/100\n",
      "2/2 [==============================] - 0s 223ms/step - loss: 0.4227 - sparse_categorical_accuracy: 0.7581\n",
      "Epoch 23/100\n",
      "2/2 [==============================] - 0s 188ms/step - loss: 0.3916 - sparse_categorical_accuracy: 0.8710\n",
      "Epoch 24/100\n",
      "2/2 [==============================] - 0s 168ms/step - loss: 0.3463 - sparse_categorical_accuracy: 0.9032\n",
      "Epoch 25/100\n",
      "2/2 [==============================] - 0s 184ms/step - loss: 0.3711 - sparse_categorical_accuracy: 0.8226\n",
      "Epoch 26/100\n",
      "2/2 [==============================] - 0s 168ms/step - loss: 0.3520 - sparse_categorical_accuracy: 0.8387\n",
      "Epoch 27/100\n",
      "2/2 [==============================] - 0s 235ms/step - loss: 0.3670 - sparse_categorical_accuracy: 0.8548\n",
      "Epoch 28/100\n",
      "2/2 [==============================] - 0s 147ms/step - loss: 0.3868 - sparse_categorical_accuracy: 0.8548\n",
      "Epoch 29/100\n",
      "2/2 [==============================] - 0s 217ms/step - loss: 0.3747 - sparse_categorical_accuracy: 0.8226\n",
      "Epoch 30/100\n",
      "2/2 [==============================] - 0s 183ms/step - loss: 0.3319 - sparse_categorical_accuracy: 0.8548\n",
      "Epoch 31/100\n",
      "2/2 [==============================] - 0s 183ms/step - loss: 0.3387 - sparse_categorical_accuracy: 0.9032\n",
      "Epoch 32/100\n",
      "2/2 [==============================] - 0s 156ms/step - loss: 0.3177 - sparse_categorical_accuracy: 0.9032\n",
      "Epoch 33/100\n",
      "2/2 [==============================] - 0s 177ms/step - loss: 0.3328 - sparse_categorical_accuracy: 0.8710\n",
      "Epoch 34/100\n",
      "2/2 [==============================] - 0s 206ms/step - loss: 0.3120 - sparse_categorical_accuracy: 0.8871\n",
      "Epoch 35/100\n",
      "2/2 [==============================] - 0s 187ms/step - loss: 0.3814 - sparse_categorical_accuracy: 0.8226\n",
      "Epoch 36/100\n",
      "2/2 [==============================] - 0s 199ms/step - loss: 0.3424 - sparse_categorical_accuracy: 0.9032\n",
      "Epoch 37/100\n",
      "2/2 [==============================] - 0s 171ms/step - loss: 0.3345 - sparse_categorical_accuracy: 0.9032\n",
      "Epoch 38/100\n",
      "2/2 [==============================] - 0s 192ms/step - loss: 0.3813 - sparse_categorical_accuracy: 0.8065\n",
      "Epoch 39/100\n",
      "2/2 [==============================] - 0s 198ms/step - loss: 0.3745 - sparse_categorical_accuracy: 0.8065\n",
      "Epoch 40/100\n",
      "2/2 [==============================] - 0s 193ms/step - loss: 0.3921 - sparse_categorical_accuracy: 0.7903\n",
      "Epoch 41/100\n",
      "2/2 [==============================] - 0s 189ms/step - loss: 0.3941 - sparse_categorical_accuracy: 0.8065\n",
      "Epoch 42/100\n",
      "2/2 [==============================] - 0s 192ms/step - loss: 0.3319 - sparse_categorical_accuracy: 0.8710\n",
      "Epoch 43/100\n",
      "2/2 [==============================] - 0s 174ms/step - loss: 0.3323 - sparse_categorical_accuracy: 0.8548\n",
      "Epoch 44/100\n",
      "2/2 [==============================] - 0s 185ms/step - loss: 0.3563 - sparse_categorical_accuracy: 0.8387\n",
      "Epoch 45/100\n",
      "2/2 [==============================] - 0s 187ms/step - loss: 0.3880 - sparse_categorical_accuracy: 0.8710\n",
      "Epoch 46/100\n",
      "2/2 [==============================] - 0s 174ms/step - loss: 0.2737 - sparse_categorical_accuracy: 0.9355\n",
      "Epoch 47/100\n",
      "2/2 [==============================] - 0s 188ms/step - loss: 0.3493 - sparse_categorical_accuracy: 0.8387\n",
      "Epoch 48/100\n",
      "2/2 [==============================] - 0s 171ms/step - loss: 0.3336 - sparse_categorical_accuracy: 0.9032\n",
      "Epoch 49/100\n",
      "2/2 [==============================] - 0s 163ms/step - loss: 0.3463 - sparse_categorical_accuracy: 0.8710\n",
      "Epoch 50/100\n",
      "2/2 [==============================] - 0s 173ms/step - loss: 0.3934 - sparse_categorical_accuracy: 0.8387\n",
      "Epoch 51/100\n",
      "2/2 [==============================] - 0s 227ms/step - loss: 0.3318 - sparse_categorical_accuracy: 0.8871\n",
      "Epoch 52/100\n",
      "2/2 [==============================] - 0s 163ms/step - loss: 0.3053 - sparse_categorical_accuracy: 0.9032\n",
      "Epoch 53/100\n",
      "2/2 [==============================] - 0s 128ms/step - loss: 0.3469 - sparse_categorical_accuracy: 0.8226\n",
      "Epoch 54/100\n",
      "2/2 [==============================] - 0s 115ms/step - loss: 0.2778 - sparse_categorical_accuracy: 0.9355\n",
      "Epoch 55/100\n",
      "2/2 [==============================] - 0s 209ms/step - loss: 0.3249 - sparse_categorical_accuracy: 0.9032\n",
      "Epoch 56/100\n",
      "2/2 [==============================] - 0s 178ms/step - loss: 0.3259 - sparse_categorical_accuracy: 0.8387\n",
      "Epoch 57/100\n",
      "2/2 [==============================] - 0s 168ms/step - loss: 0.2872 - sparse_categorical_accuracy: 0.9355\n",
      "Epoch 58/100\n",
      "2/2 [==============================] - 0s 182ms/step - loss: 0.3279 - sparse_categorical_accuracy: 0.8871\n",
      "Epoch 59/100\n",
      "2/2 [==============================] - 0s 203ms/step - loss: 0.3744 - sparse_categorical_accuracy: 0.8226\n",
      "Epoch 60/100\n",
      "2/2 [==============================] - 0s 167ms/step - loss: 0.2713 - sparse_categorical_accuracy: 0.9194\n",
      "Epoch 61/100\n",
      "2/2 [==============================] - 0s 161ms/step - loss: 0.3105 - sparse_categorical_accuracy: 0.8710\n",
      "Epoch 62/100\n",
      "2/2 [==============================] - 0s 168ms/step - loss: 0.2681 - sparse_categorical_accuracy: 0.9032\n",
      "Epoch 63/100\n",
      "2/2 [==============================] - 0s 198ms/step - loss: 0.2717 - sparse_categorical_accuracy: 0.8871\n",
      "Epoch 64/100\n",
      "2/2 [==============================] - 0s 192ms/step - loss: 0.3723 - sparse_categorical_accuracy: 0.8548\n",
      "Epoch 65/100\n",
      "2/2 [==============================] - 0s 158ms/step - loss: 0.3037 - sparse_categorical_accuracy: 0.8871\n",
      "Epoch 66/100\n",
      "2/2 [==============================] - 0s 176ms/step - loss: 0.2884 - sparse_categorical_accuracy: 0.8710\n",
      "Epoch 67/100\n",
      "2/2 [==============================] - 0s 164ms/step - loss: 0.3454 - sparse_categorical_accuracy: 0.8710\n",
      "Epoch 68/100\n",
      "2/2 [==============================] - 0s 162ms/step - loss: 0.2581 - sparse_categorical_accuracy: 0.9032\n",
      "Epoch 69/100\n",
      "2/2 [==============================] - 0s 192ms/step - loss: 0.2855 - sparse_categorical_accuracy: 0.9194\n",
      "Epoch 70/100\n",
      "2/2 [==============================] - 1s 309ms/step - loss: 0.3126 - sparse_categorical_accuracy: 0.8871\n",
      "Epoch 71/100\n",
      "2/2 [==============================] - 0s 182ms/step - loss: 0.2551 - sparse_categorical_accuracy: 0.9194\n",
      "Epoch 72/100\n",
      "2/2 [==============================] - 0s 182ms/step - loss: 0.2853 - sparse_categorical_accuracy: 0.8871\n",
      "Epoch 73/100\n",
      "2/2 [==============================] - 0s 182ms/step - loss: 0.2947 - sparse_categorical_accuracy: 0.9032\n",
      "Epoch 74/100\n",
      "2/2 [==============================] - 0s 161ms/step - loss: 0.2651 - sparse_categorical_accuracy: 0.9516\n",
      "Epoch 75/100\n",
      "2/2 [==============================] - 0s 201ms/step - loss: 0.2528 - sparse_categorical_accuracy: 0.9194\n",
      "Epoch 76/100\n",
      "2/2 [==============================] - 0s 164ms/step - loss: 0.3022 - sparse_categorical_accuracy: 0.8710\n",
      "Epoch 77/100\n",
      "2/2 [==============================] - 0s 184ms/step - loss: 0.3142 - sparse_categorical_accuracy: 0.8710\n",
      "Epoch 78/100\n",
      "2/2 [==============================] - 0s 163ms/step - loss: 0.2753 - sparse_categorical_accuracy: 0.9032\n",
      "Epoch 79/100\n",
      "2/2 [==============================] - 0s 189ms/step - loss: 0.2326 - sparse_categorical_accuracy: 0.9032\n",
      "Epoch 80/100\n",
      "2/2 [==============================] - 0s 163ms/step - loss: 0.2057 - sparse_categorical_accuracy: 0.9677\n",
      "Epoch 81/100\n",
      "2/2 [==============================] - 0s 162ms/step - loss: 0.2902 - sparse_categorical_accuracy: 0.8710\n",
      "Epoch 82/100\n",
      "2/2 [==============================] - 0s 182ms/step - loss: 0.2672 - sparse_categorical_accuracy: 0.9194\n",
      "Epoch 83/100\n",
      "2/2 [==============================] - 0s 158ms/step - loss: 0.2785 - sparse_categorical_accuracy: 0.8871\n",
      "Epoch 84/100\n",
      "2/2 [==============================] - 0s 164ms/step - loss: 0.2469 - sparse_categorical_accuracy: 0.9194\n",
      "Epoch 85/100\n",
      "2/2 [==============================] - 0s 171ms/step - loss: 0.3031 - sparse_categorical_accuracy: 0.8710\n",
      "Epoch 86/100\n",
      "2/2 [==============================] - 0s 162ms/step - loss: 0.3213 - sparse_categorical_accuracy: 0.8065\n",
      "Epoch 87/100\n",
      "2/2 [==============================] - 0s 189ms/step - loss: 0.2288 - sparse_categorical_accuracy: 0.9516\n",
      "Epoch 88/100\n",
      "2/2 [==============================] - 0s 193ms/step - loss: 0.2467 - sparse_categorical_accuracy: 0.9194\n",
      "Epoch 89/100\n",
      "2/2 [==============================] - 0s 190ms/step - loss: 0.2939 - sparse_categorical_accuracy: 0.8710\n",
      "Epoch 90/100\n",
      "2/2 [==============================] - 0s 193ms/step - loss: 0.2608 - sparse_categorical_accuracy: 0.8871\n",
      "Epoch 91/100\n",
      "2/2 [==============================] - 0s 185ms/step - loss: 0.2592 - sparse_categorical_accuracy: 0.9355\n",
      "Epoch 92/100\n",
      "2/2 [==============================] - 0s 184ms/step - loss: 0.2481 - sparse_categorical_accuracy: 0.9194\n",
      "Epoch 93/100\n",
      "2/2 [==============================] - 0s 164ms/step - loss: 0.2108 - sparse_categorical_accuracy: 0.9355\n",
      "Epoch 94/100\n",
      "2/2 [==============================] - 0s 163ms/step - loss: 0.2365 - sparse_categorical_accuracy: 0.9355\n",
      "Epoch 95/100\n",
      "2/2 [==============================] - 0s 189ms/step - loss: 0.2595 - sparse_categorical_accuracy: 0.9194\n",
      "Epoch 96/100\n",
      "2/2 [==============================] - 0s 161ms/step - loss: 0.2245 - sparse_categorical_accuracy: 0.9355\n",
      "Epoch 97/100\n",
      "2/2 [==============================] - 0s 158ms/step - loss: 0.2341 - sparse_categorical_accuracy: 0.8871\n",
      "Epoch 98/100\n",
      "2/2 [==============================] - 0s 201ms/step - loss: 0.2400 - sparse_categorical_accuracy: 0.9032\n",
      "Epoch 99/100\n",
      "2/2 [==============================] - 0s 153ms/step - loss: 0.2366 - sparse_categorical_accuracy: 0.8871\n",
      "Epoch 100/100\n",
      "2/2 [==============================] - 0s 166ms/step - loss: 0.2615 - sparse_categorical_accuracy: 0.9194\n"
     ]
    },
    {
     "data": {
      "text/plain": [
       "<keras.callbacks.History at 0x24493ab8c70>"
      ]
     },
     "execution_count": 63,
     "metadata": {},
     "output_type": "execute_result"
    }
   ],
   "source": [
    "# Uncomment this line to fit the classifier\n",
    "\n",
    "model.fit(XY_classifier_augmented, epochs=100)\n",
    "\n",
    "#model.fit(X_for_classifier,y_for_classifier, epochs=100)"
   ]
  },
  {
   "cell_type": "code",
   "execution_count": 64,
   "metadata": {},
   "outputs": [],
   "source": [
    "# Uncomment this cell to Load a previously saved model\n",
    "#MODEL_NAME_FOR_PREDICTION = \"classifier3\"\n",
    "#model = tf.keras.models.load_model(os.path.join(MODELS_FOLDER, MODEL_NAME_FOR_PREDICTION))"
   ]
  },
  {
   "cell_type": "code",
   "execution_count": 65,
   "metadata": {},
   "outputs": [],
   "source": [
    "def predict_image(image, model):\n",
    "    image = Image.fromarray(image)\n",
    "    image = image.resize((224,224))\n",
    "    image = np.array(image)\n",
    "    image = tf.reshape(image, (1,224,224))\n",
    "    pred = model.predict(image)\n",
    "    return np.argmax(pred), np.max(pred)"
   ]
  },
  {
   "cell_type": "markdown",
   "metadata": {},
   "source": [
    "### Loading test data"
   ]
  },
  {
   "cell_type": "code",
   "execution_count": 66,
   "metadata": {},
   "outputs": [],
   "source": [
    "videos_test, labels_test  = get_test_data()"
   ]
  },
  {
   "cell_type": "code",
   "execution_count": 67,
   "metadata": {},
   "outputs": [],
   "source": [
    "videos_test, labels_test=filter(filters,videos_test, labels_test)\n",
    "\n"
   ]
  },
  {
   "cell_type": "code",
   "execution_count": 68,
   "metadata": {},
   "outputs": [],
   "source": [
    "builtx, builty= create_dataset(300,300, videos_test, labels_test)"
   ]
  },
  {
   "cell_type": "code",
   "execution_count": 69,
   "metadata": {},
   "outputs": [],
   "source": [
    "Xtest_for_classifier = resize_frames(builtx)\n",
    "ytest_for_classifier = np.array(builty)"
   ]
  },
  {
   "cell_type": "code",
   "execution_count": 70,
   "metadata": {},
   "outputs": [
    {
     "data": {
      "text/plain": [
       "array(['A', 'A', 'A', 'H', 'H', 'H', 'H', 'H', 'H', 'H', 'H', 'A', 'A',\n",
       "       'A', 'A', 'A', 'H', 'H', 'H', 'H', 'H', 'H', 'H', 'A', 'A', 'H',\n",
       "       'H'], dtype='<U1')"
      ]
     },
     "execution_count": 70,
     "metadata": {},
     "output_type": "execute_result"
    }
   ],
   "source": [
    "ytest_for_classifier"
   ]
  },
  {
   "cell_type": "code",
   "execution_count": 71,
   "metadata": {},
   "outputs": [],
   "source": [
    "grayscale_batch=Xtest_for_classifier\n",
    "rgb_batch = np.repeat(grayscale_batch[..., np.newaxis], 3, -1)"
   ]
  },
  {
   "cell_type": "code",
   "execution_count": 72,
   "metadata": {},
   "outputs": [],
   "source": [
    "ytest_for_classifier=func(ytest_for_classifier)"
   ]
  },
  {
   "cell_type": "code",
   "execution_count": 73,
   "metadata": {},
   "outputs": [
    {
     "data": {
      "text/plain": [
       "array([0, 0, 0, 1, 1, 1, 1, 1, 1, 1, 1, 0, 0, 0, 0, 0, 1, 1, 1, 1, 1, 1,\n",
       "       1, 0, 0, 1, 1])"
      ]
     },
     "execution_count": 73,
     "metadata": {},
     "output_type": "execute_result"
    }
   ],
   "source": [
    "ytest_for_classifier"
   ]
  },
  {
   "cell_type": "code",
   "execution_count": 74,
   "metadata": {},
   "outputs": [],
   "source": [
    "Xtest_for_classifier= rgb_batch"
   ]
  },
  {
   "cell_type": "code",
   "execution_count": 75,
   "metadata": {},
   "outputs": [
    {
     "data": {
      "text/plain": [
       "(27, 224, 224, 3)"
      ]
     },
     "execution_count": 75,
     "metadata": {},
     "output_type": "execute_result"
    }
   ],
   "source": [
    "Xtest_for_classifier.shape"
   ]
  },
  {
   "cell_type": "code",
   "execution_count": 76,
   "metadata": {
    "scrolled": true
   },
   "outputs": [
    {
     "name": "stdout",
     "output_type": "stream",
     "text": [
      "1/1 [==============================] - 0s 234ms/step - loss: 0.6532 - sparse_categorical_accuracy: 0.7037\n",
      "Test accuracy : 0.7037037014961243\n"
     ]
    }
   ],
   "source": [
    "loss, accuracy = model.evaluate(Xtest_for_classifier, ytest_for_classifier)\n",
    "print('Test accuracy :', accuracy)"
   ]
  },
  {
   "cell_type": "code",
   "execution_count": 77,
   "metadata": {},
   "outputs": [
    {
     "name": "stdout",
     "output_type": "stream",
     "text": [
      "1/1 [==============================] - 0s 19ms/step\n"
     ]
    },
    {
     "data": {
      "text/plain": [
       "array([0, 1, 0, 1, 1, 1, 1, 0, 1, 1, 1, 1, 0, 1, 1, 1, 1, 1, 1, 1, 1, 1,\n",
       "       1, 1, 1, 1, 1], dtype=int64)"
      ]
     },
     "execution_count": 77,
     "metadata": {},
     "output_type": "execute_result"
    }
   ],
   "source": [
    "preds = model.predict(Xtest_for_classifier)\n",
    "preds = np.argmax(preds, axis=1)\n",
    "preds"
   ]
  },
  {
   "cell_type": "code",
   "execution_count": 78,
   "metadata": {},
   "outputs": [
    {
     "data": {
      "text/plain": [
       "array([0, 0, 0, 1, 1, 1, 1, 1, 1, 1, 1, 0, 0, 0, 0, 0, 1, 1, 1, 1, 1, 1,\n",
       "       1, 0, 0, 1, 1])"
      ]
     },
     "execution_count": 78,
     "metadata": {},
     "output_type": "execute_result"
    }
   ],
   "source": [
    "ytest_for_classifier"
   ]
  },
  {
   "cell_type": "code",
   "execution_count": 79,
   "metadata": {},
   "outputs": [
    {
     "data": {
      "image/png": "[encoded data removed]",
      "text/plain": [
       "<Figure size 432x288 with 2 Axes>"
      ]
     },
     "metadata": {
      "needs_background": "light"
     },
     "output_type": "display_data"
    }
   ],
   "source": [
    "from sklearn.metrics import confusion_matrix, ConfusionMatrixDisplay\n",
    "con_mat = confusion_matrix(ytest_for_classifier, preds)\n",
    "disp = ConfusionMatrixDisplay(confusion_matrix=con_mat)\n",
    "disp.plot()\n",
    "plt.show()"
   ]
  },
  {
   "cell_type": "code",
   "execution_count": 80,
   "metadata": {},
   "outputs": [],
   "source": [
    "from sklearn.metrics import classification_report\n",
    "target_names = ['class 0', 'class 1']\n"
   ]
  },
  {
   "cell_type": "code",
   "execution_count": 81,
   "metadata": {
    "scrolled": true
   },
   "outputs": [
    {
     "name": "stdout",
     "output_type": "stream",
     "text": [
      "              precision    recall  f1-score   support\n",
      "\n",
      "           0       0.75      0.30      0.43        10\n",
      "           1       0.70      0.94      0.80        17\n",
      "\n",
      "    accuracy                           0.70        27\n",
      "   macro avg       0.72      0.62      0.61        27\n",
      "weighted avg       0.72      0.70      0.66        27\n",
      "\n"
     ]
    }
   ],
   "source": [
    "print(classification_report(ytest_for_classifier, preds,labels=[0,1]))"
   ]
  },
  {
   "cell_type": "code",
   "execution_count": null,
   "metadata": {},
   "outputs": [],
   "source": []
  },
  {
   "cell_type": "code",
   "execution_count": null,
   "metadata": {},
   "outputs": [],
   "source": []
  }
 ],
 "metadata": {
  "kernelspec": {
   "display_name": "bovine-gpu",
   "language": "python",
   "name": "bovine-gpu"
  },
  "language_info": {
   "codemirror_mode": {
    "name": "ipython",
    "version": 3
   },
   "file_extension": ".py",
   "mimetype": "text/x-python",
   "name": "python",
   "nbconvert_exporter": "python",
   "pygments_lexer": "ipython3",
   "version": "3.9.7"
  }
 },
 "nbformat": 4,
 "nbformat_minor": 4
}
