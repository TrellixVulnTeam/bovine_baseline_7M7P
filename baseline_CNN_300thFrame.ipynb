{
 "cells": [
  {
   "cell_type": "markdown",
   "metadata": {},
   "source": [
    "## Current baseline:"
   ]
  },
  {
   "cell_type": "code",
   "execution_count": 1,
   "metadata": {},
   "outputs": [
    {
     "name": "stdout",
     "output_type": "stream",
     "text": [
      "Requirement already satisfied: ramp-workflow in c:\\users\\jacobo\\anaconda3\\lib\\site-packages (from -r requirements.txt (line 2)) (0.5.0)\n",
      "Requirement already satisfied: osfclient in c:\\users\\jacobo\\anaconda3\\lib\\site-packages (from -r requirements.txt (line 3)) (0.0.5)\n",
      "Requirement already satisfied: numpy in c:\\users\\jacobo\\anaconda3\\lib\\site-packages (from -r requirements.txt (line 6)) (1.20.3)\n",
      "Requirement already satisfied: scipy in c:\\users\\jacobo\\anaconda3\\lib\\site-packages (from -r requirements.txt (line 7)) (1.7.1)\n",
      "Requirement already satisfied: pandas in c:\\users\\jacobo\\anaconda3\\lib\\site-packages (from -r requirements.txt (line 8)) (1.3.4)\n",
      "Requirement already satisfied: matplotlib in c:\\users\\jacobo\\anaconda3\\lib\\site-packages (from -r requirements.txt (line 9)) (3.4.3)\n",
      "Requirement already satisfied: seaborn in c:\\users\\jacobo\\anaconda3\\lib\\site-packages (from -r requirements.txt (line 10)) (0.11.2)\n",
      "Requirement already satisfied: jupyter in c:\\users\\jacobo\\anaconda3\\lib\\site-packages (from -r requirements.txt (line 11)) (1.0.0)\n",
      "Requirement already satisfied: scikit-learn in c:\\users\\jacobo\\anaconda3\\lib\\site-packages (from -r requirements.txt (line 13)) (0.24.2)\n",
      "Requirement already satisfied: tensorflow-gpu in c:\\users\\jacobo\\anaconda3\\lib\\site-packages (from -r requirements.txt (line 14)) (2.9.0)\n",
      "Requirement already satisfied: flake8 in c:\\users\\jacobo\\anaconda3\\lib\\site-packages (from -r requirements.txt (line 17)) (3.9.2)\n",
      "Requirement already satisfied: black in c:\\users\\jacobo\\anaconda3\\lib\\site-packages (from -r requirements.txt (line 18)) (19.10b0)\n",
      "Requirement already satisfied: cloudpickle in c:\\users\\jacobo\\anaconda3\\lib\\site-packages (from -r requirements.txt (line 21)) (2.0.0)\n",
      "Requirement already satisfied: pyyaml in c:\\users\\jacobo\\anaconda3\\lib\\site-packages (from -r requirements.txt (line 22)) (6.0)\n",
      "Requirement already satisfied: joblib in c:\\users\\jacobo\\anaconda3\\lib\\site-packages (from ramp-workflow->-r requirements.txt (line 2)) (1.1.0)\n",
      "Requirement already satisfied: click in c:\\users\\jacobo\\anaconda3\\lib\\site-packages (from ramp-workflow->-r requirements.txt (line 2)) (8.0.3)\n",
      "Requirement already satisfied: tqdm in c:\\users\\jacobo\\anaconda3\\lib\\site-packages (from osfclient->-r requirements.txt (line 3)) (4.62.3)\n",
      "Requirement already satisfied: requests in c:\\users\\jacobo\\anaconda3\\lib\\site-packages (from osfclient->-r requirements.txt (line 3)) (2.26.0)\n",
      "Requirement already satisfied: six in c:\\users\\jacobo\\anaconda3\\lib\\site-packages (from osfclient->-r requirements.txt (line 3)) (1.16.0)\n",
      "Requirement already satisfied: pytz>=2017.3 in c:\\users\\jacobo\\anaconda3\\lib\\site-packages (from pandas->-r requirements.txt (line 8)) (2021.3)\n",
      "Requirement already satisfied: python-dateutil>=2.7.3 in c:\\users\\jacobo\\anaconda3\\lib\\site-packages (from pandas->-r requirements.txt (line 8)) (2.8.2)\n",
      "Requirement already satisfied: kiwisolver>=1.0.1 in c:\\users\\jacobo\\anaconda3\\lib\\site-packages (from matplotlib->-r requirements.txt (line 9)) (1.3.1)\n",
      "Requirement already satisfied: pillow>=6.2.0 in c:\\users\\jacobo\\anaconda3\\lib\\site-packages (from matplotlib->-r requirements.txt (line 9)) (8.4.0)\n",
      "Requirement already satisfied: cycler>=0.10 in c:\\users\\jacobo\\anaconda3\\lib\\site-packages (from matplotlib->-r requirements.txt (line 9)) (0.10.0)\n",
      "Requirement already satisfied: pyparsing>=2.2.1 in c:\\users\\jacobo\\anaconda3\\lib\\site-packages (from matplotlib->-r requirements.txt (line 9)) (3.0.4)\n",
      "Requirement already satisfied: nbconvert in c:\\users\\jacobo\\anaconda3\\lib\\site-packages (from jupyter->-r requirements.txt (line 11)) (6.1.0)\n",
      "Requirement already satisfied: notebook in c:\\users\\jacobo\\anaconda3\\lib\\site-packages (from jupyter->-r requirements.txt (line 11)) (6.4.5)\n",
      "Requirement already satisfied: jupyter-console in c:\\users\\jacobo\\anaconda3\\lib\\site-packages (from jupyter->-r requirements.txt (line 11)) (6.4.0)\n",
      "Requirement already satisfied: qtconsole in c:\\users\\jacobo\\anaconda3\\lib\\site-packages (from jupyter->-r requirements.txt (line 11)) (5.1.1)\n",
      "Requirement already satisfied: ipywidgets in c:\\users\\jacobo\\anaconda3\\lib\\site-packages (from jupyter->-r requirements.txt (line 11)) (7.6.5)\n",
      "Requirement already satisfied: ipykernel in c:\\users\\jacobo\\anaconda3\\lib\\site-packages (from jupyter->-r requirements.txt (line 11)) (6.4.1)\n",
      "Requirement already satisfied: threadpoolctl>=2.0.0 in c:\\users\\jacobo\\anaconda3\\lib\\site-packages (from scikit-learn->-r requirements.txt (line 13)) (2.2.0)\n",
      "Requirement already satisfied: keras-preprocessing>=1.1.1 in c:\\users\\jacobo\\anaconda3\\lib\\site-packages (from tensorflow-gpu->-r requirements.txt (line 14)) (1.1.2)\n",
      "Requirement already satisfied: tensorflow-estimator<2.10.0,>=2.9.0rc0 in c:\\users\\jacobo\\anaconda3\\lib\\site-packages (from tensorflow-gpu->-r requirements.txt (line 14)) (2.9.0)\n",
      "Requirement already satisfied: termcolor>=1.1.0 in c:\\users\\jacobo\\anaconda3\\lib\\site-packages (from tensorflow-gpu->-r requirements.txt (line 14)) (1.1.0)\n",
      "Requirement already satisfied: libclang>=13.0.0 in c:\\users\\jacobo\\anaconda3\\lib\\site-packages (from tensorflow-gpu->-r requirements.txt (line 14)) (14.0.1)\n",
      "Requirement already satisfied: grpcio<2.0,>=1.24.3 in c:\\users\\jacobo\\anaconda3\\lib\\site-packages (from tensorflow-gpu->-r requirements.txt (line 14)) (1.46.1)\n",
      "Requirement already satisfied: wrapt>=1.11.0 in c:\\users\\jacobo\\anaconda3\\lib\\site-packages (from tensorflow-gpu->-r requirements.txt (line 14)) (1.12.1)\n",
      "Requirement already satisfied: google-pasta>=0.1.1 in c:\\users\\jacobo\\anaconda3\\lib\\site-packages (from tensorflow-gpu->-r requirements.txt (line 14)) (0.2.0)\n",
      "Requirement already satisfied: setuptools in c:\\users\\jacobo\\anaconda3\\lib\\site-packages (from tensorflow-gpu->-r requirements.txt (line 14)) (58.0.4)\n",
      "Requirement already satisfied: opt-einsum>=2.3.2 in c:\\users\\jacobo\\anaconda3\\lib\\site-packages (from tensorflow-gpu->-r requirements.txt (line 14)) (3.3.0)\n",
      "Requirement already satisfied: astunparse>=1.6.0 in c:\\users\\jacobo\\anaconda3\\lib\\site-packages (from tensorflow-gpu->-r requirements.txt (line 14)) (1.6.3)\n",
      "Requirement already satisfied: keras<2.10.0,>=2.9.0rc0 in c:\\users\\jacobo\\anaconda3\\lib\\site-packages (from tensorflow-gpu->-r requirements.txt (line 14)) (2.9.0)\n",
      "Requirement already satisfied: tensorboard<2.10,>=2.9 in c:\\users\\jacobo\\anaconda3\\lib\\site-packages (from tensorflow-gpu->-r requirements.txt (line 14)) (2.9.0)\n",
      "Requirement already satisfied: packaging in c:\\users\\jacobo\\anaconda3\\lib\\site-packages (from tensorflow-gpu->-r requirements.txt (line 14)) (21.0)\n",
      "Requirement already satisfied: absl-py>=1.0.0 in c:\\users\\jacobo\\anaconda3\\lib\\site-packages (from tensorflow-gpu->-r requirements.txt (line 14)) (1.0.0)\n",
      "Requirement already satisfied: gast<=0.4.0,>=0.2.1 in c:\\users\\jacobo\\anaconda3\\lib\\site-packages (from tensorflow-gpu->-r requirements.txt (line 14)) (0.4.0)\n",
      "Requirement already satisfied: protobuf>=3.9.2 in c:\\users\\jacobo\\anaconda3\\lib\\site-packages (from tensorflow-gpu->-r requirements.txt (line 14)) (3.20.1)\n",
      "Requirement already satisfied: typing-extensions>=3.6.6 in c:\\users\\jacobo\\anaconda3\\lib\\site-packages (from tensorflow-gpu->-r requirements.txt (line 14)) (3.10.0.2)\n",
      "Requirement already satisfied: h5py>=2.9.0 in c:\\users\\jacobo\\anaconda3\\lib\\site-packages (from tensorflow-gpu->-r requirements.txt (line 14)) (3.2.1)\n",
      "Requirement already satisfied: tensorflow-io-gcs-filesystem>=0.23.1 in c:\\users\\jacobo\\anaconda3\\lib\\site-packages (from tensorflow-gpu->-r requirements.txt (line 14)) (0.26.0)\n",
      "Requirement already satisfied: flatbuffers<2,>=1.12 in c:\\users\\jacobo\\anaconda3\\lib\\site-packages (from tensorflow-gpu->-r requirements.txt (line 14)) (1.12)\n",
      "Requirement already satisfied: mccabe<0.7.0,>=0.6.0 in c:\\users\\jacobo\\anaconda3\\lib\\site-packages (from flake8->-r requirements.txt (line 17)) (0.6.1)\n",
      "Requirement already satisfied: pycodestyle<2.8.0,>=2.7.0 in c:\\users\\jacobo\\anaconda3\\lib\\site-packages (from flake8->-r requirements.txt (line 17)) (2.7.0)\n",
      "Requirement already satisfied: pyflakes<2.4.0,>=2.3.0 in c:\\users\\jacobo\\anaconda3\\lib\\site-packages (from flake8->-r requirements.txt (line 17)) (2.3.1)\n",
      "Requirement already satisfied: typed-ast>=1.4.0 in c:\\users\\jacobo\\anaconda3\\lib\\site-packages (from black->-r requirements.txt (line 18)) (1.4.3)\n",
      "Requirement already satisfied: regex in c:\\users\\jacobo\\anaconda3\\lib\\site-packages (from black->-r requirements.txt (line 18)) (2021.8.3)\n",
      "Requirement already satisfied: attrs>=18.1.0 in c:\\users\\jacobo\\anaconda3\\lib\\site-packages (from black->-r requirements.txt (line 18)) (21.2.0)\n",
      "Requirement already satisfied: pathspec<1,>=0.6 in c:\\users\\jacobo\\anaconda3\\lib\\site-packages (from black->-r requirements.txt (line 18)) (0.7.0)\n",
      "Requirement already satisfied: appdirs in c:\\users\\jacobo\\anaconda3\\lib\\site-packages (from black->-r requirements.txt (line 18)) (1.4.4)\n",
      "Requirement already satisfied: toml>=0.9.4 in c:\\users\\jacobo\\anaconda3\\lib\\site-packages (from black->-r requirements.txt (line 18)) (0.10.2)\n",
      "Requirement already satisfied: wheel<1.0,>=0.23.0 in c:\\users\\jacobo\\anaconda3\\lib\\site-packages (from astunparse>=1.6.0->tensorflow-gpu->-r requirements.txt (line 14)) (0.37.0)\n",
      "Requirement already satisfied: colorama in c:\\users\\jacobo\\anaconda3\\lib\\site-packages (from click->ramp-workflow->-r requirements.txt (line 2)) (0.4.4)\n",
      "Requirement already satisfied: tensorboard-plugin-wit>=1.6.0 in c:\\users\\jacobo\\anaconda3\\lib\\site-packages (from tensorboard<2.10,>=2.9->tensorflow-gpu->-r requirements.txt (line 14)) (1.8.1)\n",
      "Requirement already satisfied: werkzeug>=1.0.1 in c:\\users\\jacobo\\anaconda3\\lib\\site-packages (from tensorboard<2.10,>=2.9->tensorflow-gpu->-r requirements.txt (line 14)) (2.0.2)\n",
      "Requirement already satisfied: tensorboard-data-server<0.7.0,>=0.6.0 in c:\\users\\jacobo\\anaconda3\\lib\\site-packages (from tensorboard<2.10,>=2.9->tensorflow-gpu->-r requirements.txt (line 14)) (0.6.1)\n",
      "Requirement already satisfied: markdown>=2.6.8 in c:\\users\\jacobo\\anaconda3\\lib\\site-packages (from tensorboard<2.10,>=2.9->tensorflow-gpu->-r requirements.txt (line 14)) (3.3.7)\n",
      "Requirement already satisfied: google-auth-oauthlib<0.5,>=0.4.1 in c:\\users\\jacobo\\anaconda3\\lib\\site-packages (from tensorboard<2.10,>=2.9->tensorflow-gpu->-r requirements.txt (line 14)) (0.4.6)\n",
      "Requirement already satisfied: google-auth<3,>=1.6.3 in c:\\users\\jacobo\\anaconda3\\lib\\site-packages (from tensorboard<2.10,>=2.9->tensorflow-gpu->-r requirements.txt (line 14)) (2.6.6)\n",
      "Requirement already satisfied: pyasn1-modules>=0.2.1 in c:\\users\\jacobo\\anaconda3\\lib\\site-packages (from google-auth<3,>=1.6.3->tensorboard<2.10,>=2.9->tensorflow-gpu->-r requirements.txt (line 14)) (0.2.8)\n",
      "Requirement already satisfied: rsa<5,>=3.1.4 in c:\\users\\jacobo\\anaconda3\\lib\\site-packages (from google-auth<3,>=1.6.3->tensorboard<2.10,>=2.9->tensorflow-gpu->-r requirements.txt (line 14)) (4.8)\n",
      "Requirement already satisfied: cachetools<6.0,>=2.0.0 in c:\\users\\jacobo\\anaconda3\\lib\\site-packages (from google-auth<3,>=1.6.3->tensorboard<2.10,>=2.9->tensorflow-gpu->-r requirements.txt (line 14)) (5.1.0)\n",
      "Requirement already satisfied: requests-oauthlib>=0.7.0 in c:\\users\\jacobo\\anaconda3\\lib\\site-packages (from google-auth-oauthlib<0.5,>=0.4.1->tensorboard<2.10,>=2.9->tensorflow-gpu->-r requirements.txt (line 14)) (1.3.1)\n",
      "Requirement already satisfied: importlib-metadata>=4.4 in c:\\users\\jacobo\\anaconda3\\lib\\site-packages (from markdown>=2.6.8->tensorboard<2.10,>=2.9->tensorflow-gpu->-r requirements.txt (line 14)) (4.8.1)\n",
      "Requirement already satisfied: zipp>=0.5 in c:\\users\\jacobo\\anaconda3\\lib\\site-packages (from importlib-metadata>=4.4->markdown>=2.6.8->tensorboard<2.10,>=2.9->tensorflow-gpu->-r requirements.txt (line 14)) (3.6.0)\n",
      "Requirement already satisfied: pyasn1<0.5.0,>=0.4.6 in c:\\users\\jacobo\\anaconda3\\lib\\site-packages (from pyasn1-modules>=0.2.1->google-auth<3,>=1.6.3->tensorboard<2.10,>=2.9->tensorflow-gpu->-r requirements.txt (line 14)) (0.4.8)\n",
      "Requirement already satisfied: urllib3<1.27,>=1.21.1 in c:\\users\\jacobo\\anaconda3\\lib\\site-packages (from requests->osfclient->-r requirements.txt (line 3)) (1.26.7)\n",
      "Requirement already satisfied: idna<4,>=2.5 in c:\\users\\jacobo\\anaconda3\\lib\\site-packages (from requests->osfclient->-r requirements.txt (line 3)) (3.2)\n",
      "Requirement already satisfied: charset-normalizer~=2.0.0 in c:\\users\\jacobo\\anaconda3\\lib\\site-packages (from requests->osfclient->-r requirements.txt (line 3)) (2.0.4)\n",
      "Requirement already satisfied: certifi>=2017.4.17 in c:\\users\\jacobo\\anaconda3\\lib\\site-packages (from requests->osfclient->-r requirements.txt (line 3)) (2021.10.8)\n",
      "Requirement already satisfied: oauthlib>=3.0.0 in c:\\users\\jacobo\\anaconda3\\lib\\site-packages (from requests-oauthlib>=0.7.0->google-auth-oauthlib<0.5,>=0.4.1->tensorboard<2.10,>=2.9->tensorflow-gpu->-r requirements.txt (line 14)) (3.2.0)\n",
      "Requirement already satisfied: traitlets<6.0,>=4.1.0 in c:\\users\\jacobo\\anaconda3\\lib\\site-packages (from ipykernel->jupyter->-r requirements.txt (line 11)) (5.1.0)\n",
      "Requirement already satisfied: ipython-genutils in c:\\users\\jacobo\\anaconda3\\lib\\site-packages (from ipykernel->jupyter->-r requirements.txt (line 11)) (0.2.0)\n",
      "Requirement already satisfied: matplotlib-inline<0.2.0,>=0.1.0 in c:\\users\\jacobo\\anaconda3\\lib\\site-packages (from ipykernel->jupyter->-r requirements.txt (line 11)) (0.1.2)\n",
      "Requirement already satisfied: debugpy<2.0,>=1.0.0 in c:\\users\\jacobo\\anaconda3\\lib\\site-packages (from ipykernel->jupyter->-r requirements.txt (line 11)) (1.4.1)\n",
      "Requirement already satisfied: ipython<8.0,>=7.23.1 in c:\\users\\jacobo\\anaconda3\\lib\\site-packages (from ipykernel->jupyter->-r requirements.txt (line 11)) (7.29.0)\n",
      "Requirement already satisfied: jupyter-client<8.0 in c:\\users\\jacobo\\anaconda3\\lib\\site-packages (from ipykernel->jupyter->-r requirements.txt (line 11)) (6.1.12)\n",
      "Requirement already satisfied: tornado<7.0,>=4.2 in c:\\users\\jacobo\\anaconda3\\lib\\site-packages (from ipykernel->jupyter->-r requirements.txt (line 11)) (6.1)\n",
      "Requirement already satisfied: pygments in c:\\users\\jacobo\\anaconda3\\lib\\site-packages (from ipython<8.0,>=7.23.1->ipykernel->jupyter->-r requirements.txt (line 11)) (2.10.0)\n",
      "Requirement already satisfied: prompt-toolkit!=3.0.0,!=3.0.1,<3.1.0,>=2.0.0 in c:\\users\\jacobo\\anaconda3\\lib\\site-packages (from ipython<8.0,>=7.23.1->ipykernel->jupyter->-r requirements.txt (line 11)) (3.0.20)\n",
      "Requirement already satisfied: jedi>=0.16 in c:\\users\\jacobo\\anaconda3\\lib\\site-packages (from ipython<8.0,>=7.23.1->ipykernel->jupyter->-r requirements.txt (line 11)) (0.18.0)\n",
      "Requirement already satisfied: backcall in c:\\users\\jacobo\\anaconda3\\lib\\site-packages (from ipython<8.0,>=7.23.1->ipykernel->jupyter->-r requirements.txt (line 11)) (0.2.0)\n",
      "Requirement already satisfied: pickleshare in c:\\users\\jacobo\\anaconda3\\lib\\site-packages (from ipython<8.0,>=7.23.1->ipykernel->jupyter->-r requirements.txt (line 11)) (0.7.5)\n",
      "Requirement already satisfied: decorator in c:\\users\\jacobo\\anaconda3\\lib\\site-packages (from ipython<8.0,>=7.23.1->ipykernel->jupyter->-r requirements.txt (line 11)) (5.1.0)\n",
      "Requirement already satisfied: parso<0.9.0,>=0.8.0 in c:\\users\\jacobo\\anaconda3\\lib\\site-packages (from jedi>=0.16->ipython<8.0,>=7.23.1->ipykernel->jupyter->-r requirements.txt (line 11)) (0.8.2)\n",
      "Requirement already satisfied: jupyter-core>=4.6.0 in c:\\users\\jacobo\\anaconda3\\lib\\site-packages (from jupyter-client<8.0->ipykernel->jupyter->-r requirements.txt (line 11)) (4.8.1)\n",
      "Requirement already satisfied: pyzmq>=13 in c:\\users\\jacobo\\anaconda3\\lib\\site-packages (from jupyter-client<8.0->ipykernel->jupyter->-r requirements.txt (line 11)) (22.2.1)\n",
      "Requirement already satisfied: pywin32>=1.0 in c:\\users\\jacobo\\anaconda3\\lib\\site-packages (from jupyter-core>=4.6.0->jupyter-client<8.0->ipykernel->jupyter->-r requirements.txt (line 11)) (228)\n",
      "Requirement already satisfied: wcwidth in c:\\users\\jacobo\\anaconda3\\lib\\site-packages (from prompt-toolkit!=3.0.0,!=3.0.1,<3.1.0,>=2.0.0->ipython<8.0,>=7.23.1->ipykernel->jupyter->-r requirements.txt (line 11)) (0.2.5)\n",
      "Requirement already satisfied: jupyterlab-widgets>=1.0.0 in c:\\users\\jacobo\\anaconda3\\lib\\site-packages (from ipywidgets->jupyter->-r requirements.txt (line 11)) (1.0.0)\n",
      "Requirement already satisfied: widgetsnbextension~=3.5.0 in c:\\users\\jacobo\\anaconda3\\lib\\site-packages (from ipywidgets->jupyter->-r requirements.txt (line 11)) (3.5.1)\n",
      "Requirement already satisfied: nbformat>=4.2.0 in c:\\users\\jacobo\\anaconda3\\lib\\site-packages (from ipywidgets->jupyter->-r requirements.txt (line 11)) (5.1.3)\n",
      "Requirement already satisfied: jsonschema!=2.5.0,>=2.4 in c:\\users\\jacobo\\anaconda3\\lib\\site-packages (from nbformat>=4.2.0->ipywidgets->jupyter->-r requirements.txt (line 11)) (3.2.0)\n",
      "Requirement already satisfied: pyrsistent>=0.14.0 in c:\\users\\jacobo\\anaconda3\\lib\\site-packages (from jsonschema!=2.5.0,>=2.4->nbformat>=4.2.0->ipywidgets->jupyter->-r requirements.txt (line 11)) (0.18.0)\n",
      "Requirement already satisfied: terminado>=0.8.3 in c:\\users\\jacobo\\anaconda3\\lib\\site-packages (from notebook->jupyter->-r requirements.txt (line 11)) (0.9.4)\n",
      "Requirement already satisfied: argon2-cffi in c:\\users\\jacobo\\anaconda3\\lib\\site-packages (from notebook->jupyter->-r requirements.txt (line 11)) (20.1.0)\n",
      "Requirement already satisfied: jinja2 in c:\\users\\jacobo\\anaconda3\\lib\\site-packages (from notebook->jupyter->-r requirements.txt (line 11)) (2.11.3)\n",
      "Requirement already satisfied: Send2Trash>=1.5.0 in c:\\users\\jacobo\\anaconda3\\lib\\site-packages (from notebook->jupyter->-r requirements.txt (line 11)) (1.8.0)\n",
      "Requirement already satisfied: prometheus-client in c:\\users\\jacobo\\anaconda3\\lib\\site-packages (from notebook->jupyter->-r requirements.txt (line 11)) (0.11.0)\n",
      "Requirement already satisfied: pywinpty>=0.5 in c:\\users\\jacobo\\anaconda3\\lib\\site-packages (from terminado>=0.8.3->notebook->jupyter->-r requirements.txt (line 11)) (0.5.7)\n",
      "Requirement already satisfied: cffi>=1.0.0 in c:\\users\\jacobo\\anaconda3\\lib\\site-packages (from argon2-cffi->notebook->jupyter->-r requirements.txt (line 11)) (1.14.6)\n",
      "Requirement already satisfied: pycparser in c:\\users\\jacobo\\anaconda3\\lib\\site-packages (from cffi>=1.0.0->argon2-cffi->notebook->jupyter->-r requirements.txt (line 11)) (2.20)\n",
      "Requirement already satisfied: MarkupSafe>=0.23 in c:\\users\\jacobo\\anaconda3\\lib\\site-packages (from jinja2->notebook->jupyter->-r requirements.txt (line 11)) (1.1.1)\n",
      "Requirement already satisfied: mistune<2,>=0.8.1 in c:\\users\\jacobo\\anaconda3\\lib\\site-packages (from nbconvert->jupyter->-r requirements.txt (line 11)) (0.8.4)\n",
      "Requirement already satisfied: bleach in c:\\users\\jacobo\\anaconda3\\lib\\site-packages (from nbconvert->jupyter->-r requirements.txt (line 11)) (4.0.0)\n",
      "Requirement already satisfied: nbclient<0.6.0,>=0.5.0 in c:\\users\\jacobo\\anaconda3\\lib\\site-packages (from nbconvert->jupyter->-r requirements.txt (line 11)) (0.5.3)\n",
      "Requirement already satisfied: entrypoints>=0.2.2 in c:\\users\\jacobo\\anaconda3\\lib\\site-packages (from nbconvert->jupyter->-r requirements.txt (line 11)) (0.3)\n",
      "Requirement already satisfied: jupyterlab-pygments in c:\\users\\jacobo\\anaconda3\\lib\\site-packages (from nbconvert->jupyter->-r requirements.txt (line 11)) (0.1.2)\n",
      "Requirement already satisfied: defusedxml in c:\\users\\jacobo\\anaconda3\\lib\\site-packages (from nbconvert->jupyter->-r requirements.txt (line 11)) (0.7.1)\n",
      "Requirement already satisfied: testpath in c:\\users\\jacobo\\anaconda3\\lib\\site-packages (from nbconvert->jupyter->-r requirements.txt (line 11)) (0.5.0)\n",
      "Requirement already satisfied: pandocfilters>=1.4.1 in c:\\users\\jacobo\\anaconda3\\lib\\site-packages (from nbconvert->jupyter->-r requirements.txt (line 11)) (1.4.3)\n",
      "Requirement already satisfied: async-generator in c:\\users\\jacobo\\anaconda3\\lib\\site-packages (from nbclient<0.6.0,>=0.5.0->nbconvert->jupyter->-r requirements.txt (line 11)) (1.10)\n",
      "Requirement already satisfied: nest-asyncio in c:\\users\\jacobo\\anaconda3\\lib\\site-packages (from nbclient<0.6.0,>=0.5.0->nbconvert->jupyter->-r requirements.txt (line 11)) (1.5.1)\n",
      "Requirement already satisfied: webencodings in c:\\users\\jacobo\\anaconda3\\lib\\site-packages (from bleach->nbconvert->jupyter->-r requirements.txt (line 11)) (0.5.1)\n",
      "Requirement already satisfied: qtpy in c:\\users\\jacobo\\anaconda3\\lib\\site-packages (from qtconsole->jupyter->-r requirements.txt (line 11)) (1.10.0)\n"
     ]
    }
   ],
   "source": [
    "import sys\n",
    "!{sys.executable} -m pip install -r requirements.txt"
   ]
  },
  {
   "cell_type": "code",
   "execution_count": 2,
   "metadata": {},
   "outputs": [],
   "source": [
    "import matplotlib.pyplot as plt"
   ]
  },
  {
   "cell_type": "code",
   "execution_count": 3,
   "metadata": {},
   "outputs": [],
   "source": [
    "from problem import get_train_data, get_test_data, WeightedClassificationError"
   ]
  },
  {
   "cell_type": "code",
   "execution_count": 4,
   "metadata": {},
   "outputs": [
    {
     "name": "stdout",
     "output_type": "stream",
     "text": [
      "Note: you may need to restart the kernel to use updated packages.\n"
     ]
    },
    {
     "name": "stderr",
     "output_type": "stream",
     "text": [
      "ERROR: Invalid requirement: '#pickle'\n"
     ]
    }
   ],
   "source": [
    "pip install tensorflow #pickle"
   ]
  },
  {
   "cell_type": "code",
   "execution_count": 5,
   "metadata": {},
   "outputs": [],
   "source": [
    "import numpy as np\n",
    "import tensorflow as tf\n",
    "from time import time\n",
    "import pandas as pd\n",
    "import math"
   ]
  },
  {
   "cell_type": "code",
   "execution_count": 6,
   "metadata": {},
   "outputs": [],
   "source": [
    "videos_train, labels_train = get_train_data()"
   ]
  },
  {
   "cell_type": "code",
   "execution_count": 7,
   "metadata": {},
   "outputs": [
    {
     "data": {
      "text/plain": [
       "177"
      ]
     },
     "execution_count": 7,
     "metadata": {},
     "output_type": "execute_result"
    }
   ],
   "source": [
    "len(videos_train)"
   ]
  },
  {
   "cell_type": "code",
   "execution_count": 8,
   "metadata": {},
   "outputs": [],
   "source": [
    "#Filtering only class A and class H\n",
    "def filter(filters,x,y):\n",
    "    rx=x.copy()\n",
    "    ry=y.copy()\n",
    "    ry=list(ry)\n",
    "    \n",
    "    df = pd.DataFrame({'labels':ry,'features':rx})\n",
    "    df = df[~df.labels.isin(filters)]\n",
    "    ry = df['labels'].tolist()\n",
    "    rx = df['features'].tolist()\n",
    "    \n",
    "    return rx,ry"
   ]
  },
  {
   "cell_type": "code",
   "execution_count": null,
   "metadata": {},
   "outputs": [],
   "source": []
  },
  {
   "cell_type": "code",
   "execution_count": 9,
   "metadata": {},
   "outputs": [],
   "source": [
    "filters= ['B','C','D','E','F','G']\n",
    "a,b=filter(filters,videos_train, labels_train)\n",
    "#videos_train= a\n",
    "#labels_train= np.array(b)"
   ]
  },
  {
   "cell_type": "code",
   "execution_count": 10,
   "metadata": {},
   "outputs": [],
   "source": [
    "#transforming the data set: each observation now correponds the nth observation\n",
    "def nth_frame(videolist, n):\n",
    "    n = 300\n",
    "    nth_frames=[]\n",
    "    i=0\n",
    "    for video in videolist:\n",
    "        i+=1\n",
    "        time= video.frame_times[n-1]\n",
    "        frame= video.read_frame(time)\n",
    "        nth_frames.append(frame)\n",
    "    return nth_frames"
   ]
  },
  {
   "cell_type": "code",
   "execution_count": 11,
   "metadata": {},
   "outputs": [],
   "source": [
    "def create_dataset(startFrame, endFrame, x, y):\n",
    "    print(\"for n= \",startFrame)\n",
    "    xres= nth_frame(x,startFrame)\n",
    "    yres= np.array(y)\n",
    "    print(\"x:\",len(xres))\n",
    "    print(\"y:\",len(yres))\n",
    "    for i in range(startFrame+1, endFrame+1):\n",
    "        print(\"for n= \",i)\n",
    "        temp= nth_frame(x,i)\n",
    "        xres+= temp\n",
    "        print(\"x:\",len(xres))\n",
    "        yres= np.append(yres,np.array(y))\n",
    "        print(\"y:\",len(yres))\n",
    "    return xres,yres"
   ]
  },
  {
   "cell_type": "code",
   "execution_count": 12,
   "metadata": {},
   "outputs": [
    {
     "name": "stdout",
     "output_type": "stream",
     "text": [
      "for n=  290\n",
      "x: 177\n",
      "y: 177\n",
      "for n=  291\n",
      "x: 354\n",
      "y: 354\n",
      "for n=  292\n",
      "x: 531\n",
      "y: 531\n",
      "for n=  293\n",
      "x: 708\n",
      "y: 708\n",
      "for n=  294\n",
      "x: 885\n",
      "y: 885\n",
      "for n=  295\n",
      "x: 1062\n",
      "y: 1062\n",
      "for n=  296\n",
      "x: 1239\n",
      "y: 1239\n",
      "for n=  297\n",
      "x: 1416\n",
      "y: 1416\n",
      "for n=  298\n",
      "x: 1593\n",
      "y: 1593\n",
      "for n=  299\n",
      "x: 1770\n",
      "y: 1770\n",
      "for n=  300\n",
      "x: 1947\n",
      "y: 1947\n"
     ]
    }
   ],
   "source": [
    "builtx, builty= create_dataset(290,300, videos_train, labels_train)"
   ]
  },
  {
   "cell_type": "code",
   "execution_count": 13,
   "metadata": {},
   "outputs": [],
   "source": [
    "X_for_classifier= np.array(builtx)\n",
    "y_for_classifier= builty"
   ]
  },
  {
   "cell_type": "code",
   "execution_count": 20,
   "metadata": {},
   "outputs": [
    {
     "data": {
      "text/plain": [
       "(1, 1947, 250, 250, 3)"
      ]
     },
     "execution_count": 20,
     "metadata": {},
     "output_type": "execute_result"
    }
   ],
   "source": [
    "X_for_classifier[None, ...].shape"
   ]
  },
  {
   "cell_type": "code",
   "execution_count": 15,
   "metadata": {},
   "outputs": [],
   "source": [
    "#temp fix to make it work with MobileNetV2\n",
    "\n",
    "grayscale_batch=X_for_classifier\n",
    "rgb_batch = np.repeat(grayscale_batch[...,np.newaxis], 3, -1)\n"
   ]
  },
  {
   "cell_type": "code",
   "execution_count": 16,
   "metadata": {},
   "outputs": [],
   "source": [
    "X_for_classifier= rgb_batch"
   ]
  },
  {
   "cell_type": "code",
   "execution_count": 17,
   "metadata": {},
   "outputs": [
    {
     "data": {
      "text/plain": [
       "(1947, 250, 250, 3)"
      ]
     },
     "execution_count": 17,
     "metadata": {},
     "output_type": "execute_result"
    }
   ],
   "source": [
    "X_for_classifier.shape"
   ]
  },
  {
   "cell_type": "code",
   "execution_count": 16,
   "metadata": {},
   "outputs": [],
   "source": [
    "#test after transformation: prints all images of dataset\n",
    "#for i in range(0,176):\n",
    "#    plt.imshow(X_for_classifier[i], cmap='gray')\n",
    "#    title_obj = plt.title(y_for_classifier[i]) \n",
    "#    plt.axis('off')\n",
    "#    plt.show()\n"
   ]
  },
  {
   "cell_type": "code",
   "execution_count": 17,
   "metadata": {},
   "outputs": [],
   "source": [
    "def class_to_int(argument):\n",
    "    switcher = {\n",
    "        'A':0,\n",
    "        'B':1,\n",
    "        'C':2,\n",
    "        'D':3,\n",
    "        'E':4,\n",
    "        'F':5,\n",
    "        'G':6,\n",
    "        'H':7,\n",
    "    }\n",
    " \n",
    "    # get() method of dictionary data type returns\n",
    "    # value of passed argument if it is present\n",
    "    # in dictionary otherwise second argument will\n",
    "    # be assigned as default value of passed argument\n",
    "    return switcher.get(argument, \"nothing\")\n",
    " "
   ]
  },
  {
   "cell_type": "code",
   "execution_count": 18,
   "metadata": {},
   "outputs": [],
   "source": [
    "func=np.vectorize(class_to_int)\n",
    "y_for_classifier=func(y_for_classifier)"
   ]
  },
  {
   "cell_type": "code",
   "execution_count": 19,
   "metadata": {
    "scrolled": true
   },
   "outputs": [
    {
     "data": {
      "text/plain": [
       "array([7, 7, 0, ..., 7, 3, 3])"
      ]
     },
     "execution_count": 19,
     "metadata": {},
     "output_type": "execute_result"
    }
   ],
   "source": [
    "y_for_classifier"
   ]
  },
  {
   "cell_type": "code",
   "execution_count": 20,
   "metadata": {},
   "outputs": [],
   "source": [
    "\n",
    "#import numpy as np\n",
    "\n",
    "\n",
    "#class VideoClassifier(object):\n",
    "#    def __init__(self):\n",
    "#        pass\n",
    "\n",
    "#    def fit(self, videos: list, y, pred_time: float):\n",
    "#        classes = [\"A\", \"B\", \"C\", \"D\", \"E\", \"F\", \"G\", \"H\"]\n",
    "#        self.n_classes = len(classes)\n",
    "#        print(type(self))\n",
    "#        pass\n",
    "\n",
    "#    def predict(self, videos: list, pred_time: float):\n",
    "#        proba = np.random.rand(len(videos), self.n_classes)\n",
    "#        proba /= proba.sum(axis=1)[:, np.newaxis]\n",
    "#        return proba\n",
    "\n"
   ]
  },
  {
   "cell_type": "markdown",
   "metadata": {},
   "source": [
    "## Data Augmentation with Keras ImageDataGenerator"
   ]
  },
  {
   "cell_type": "code",
   "execution_count": 21,
   "metadata": {},
   "outputs": [],
   "source": [
    "datagen = tf.keras.preprocessing.image.ImageDataGenerator(\n",
    "        rescale=1./255, \n",
    "        rotation_range=30, fill_mode='nearest',\n",
    "        width_shift_range=0.1, height_shift_range=0.1,\n",
    "        horizontal_flip=True,\n",
    "        vertical_flip=True,\n",
    "        brightness_range=[0.8,1.2] #above 1 light , below darkens\n",
    ")"
   ]
  },
  {
   "cell_type": "code",
   "execution_count": 22,
   "metadata": {},
   "outputs": [],
   "source": [
    "XY_classifier_augmented= datagen.flow(X_for_classifier, y_for_classifier, batch_size=32)"
   ]
  },
  {
   "cell_type": "code",
   "execution_count": 23,
   "metadata": {},
   "outputs": [],
   "source": [
    "#(next(XY_classifier_augmented))[1]"
   ]
  },
  {
   "cell_type": "code",
   "execution_count": 24,
   "metadata": {},
   "outputs": [
    {
     "data": {
      "text/plain": [
       "(-0.5, 249.5, 249.5, -0.5)"
      ]
     },
     "execution_count": 24,
     "metadata": {},
     "output_type": "execute_result"
    },
    {
     "data": {
      "image/png": "[encoded data removed]",
      "text/plain": [
       "<Figure size 432x288 with 1 Axes>"
      ]
     },
     "metadata": {
      "needs_background": "light"
     },
     "output_type": "display_data"
    }
   ],
   "source": [
    "batch= next(XY_classifier_augmented)[0]\n",
    "image=batch[30]\n",
    "plt.imshow(image)\n",
    "plt.axis('off')"
   ]
  },
  {
   "cell_type": "code",
   "execution_count": 25,
   "metadata": {},
   "outputs": [
    {
     "data": {
      "image/png": "[encoded data removed]",
      "text/plain": [
       "<Figure size 432x288 with 1 Axes>"
      ]
     },
     "metadata": {
      "needs_background": "light"
     },
     "output_type": "display_data"
    }
   ],
   "source": [
    "#fig, ax = plt.subplots(nrows=1, ncols=3, figsize=(15,15))\n",
    "\n",
    "#for i in :\n",
    "\n",
    "    # convert to unsigned integers\n",
    "batch = next(XY_classifier_augmented)[0]\n",
    " \n",
    "    # plot image\n",
    "    #ax[i].\n",
    "for image in batch:\n",
    "    plt.imshow(image)\n",
    "    plt.axis('off')"
   ]
  },
  {
   "cell_type": "markdown",
   "metadata": {},
   "source": [
    "## new Baseline test"
   ]
  },
  {
   "cell_type": "markdown",
   "metadata": {},
   "source": [
    "### predefined pred times:"
   ]
  },
  {
   "cell_type": "markdown",
   "metadata": {},
   "source": [
    " ensuring that only frames up to pred_times are used for model training and testing. None is the whole 300 frames."
   ]
  },
  {
   "cell_type": "code",
   "execution_count": 26,
   "metadata": {},
   "outputs": [],
   "source": [
    "pred_times = [27, 32, 37, 40, 44, 48, 53, 58, 63, 94, None]"
   ]
  },
  {
   "cell_type": "markdown",
   "metadata": {},
   "source": [
    "### Build the model"
   ]
  },
  {
   "cell_type": "code",
   "execution_count": 27,
   "metadata": {},
   "outputs": [
    {
     "name": "stdout",
     "output_type": "stream",
     "text": [
      "WARNING:tensorflow:`input_shape` is undefined or non-square, or `rows` is not in [96, 128, 160, 192, 224]. Weights for input shape (224, 224) will be loaded as the default.\n"
     ]
    },
    {
     "name": "stderr",
     "output_type": "stream",
     "text": [
      "2022-05-13 16:42:32.247338: I tensorflow/core/platform/cpu_feature_guard.cc:151] This TensorFlow binary is optimized with oneAPI Deep Neural Network Library (oneDNN) to use the following CPU instructions in performance-critical operations:  AVX2 FMA\n",
      "To enable them in other operations, rebuild TensorFlow with the appropriate compiler flags.\n"
     ]
    },
    {
     "name": "stdout",
     "output_type": "stream",
     "text": [
      "Model: \"model\"\n",
      "_________________________________________________________________\n",
      " Layer (type)                Output Shape              Param #   \n",
      "=================================================================\n",
      " input_2 (InputLayer)        [(None, 250, 250, 3)]     0         \n",
      "                                                                 \n",
      " tf.math.truediv (TFOpLambda  (None, 250, 250, 3)      0         \n",
      " )                                                               \n",
      "                                                                 \n",
      " tf.math.subtract (TFOpLambd  (None, 250, 250, 3)      0         \n",
      " a)                                                              \n",
      "                                                                 \n",
      " mobilenetv2_1.00_224 (Funct  (None, 8, 8, 1280)       2257984   \n",
      " ional)                                                          \n",
      "                                                                 \n",
      " global_average_pooling2d (G  (None, 1280)             0         \n",
      " lobalAveragePooling2D)                                          \n",
      "                                                                 \n",
      " dropout (Dropout)           (None, 1280)              0         \n",
      "                                                                 \n",
      " dense (Dense)               (None, 8)                 10248     \n",
      "                                                                 \n",
      "=================================================================\n",
      "Total params: 2,268,232\n",
      "Trainable params: 10,248\n",
      "Non-trainable params: 2,257,984\n",
      "_________________________________________________________________\n"
     ]
    }
   ],
   "source": [
    "# Image shape for classifier\n",
    "IMG_SHAPE = (250,250,3)\n",
    "\n",
    "# Building of a classification model\n",
    "base_model = tf.keras.applications.MobileNetV2(\n",
    "        input_shape=IMG_SHAPE, include_top=False, weights=\"imagenet\"\n",
    "    )\n",
    "base_model.trainable = False\n",
    "inputs = tf.keras.Input(shape=IMG_SHAPE)\n",
    "preprocess_input = tf.keras.applications.mobilenet_v2.preprocess_input\n",
    "global_average_layer = tf.keras.layers.GlobalAveragePooling2D()\n",
    "prediction_layer = tf.keras.layers.Dense(8, activation=\"softmax\")\n",
    "x = preprocess_input(inputs)\n",
    "x = base_model(x, training=False)\n",
    "x = global_average_layer(x)\n",
    "x = tf.keras.layers.Dropout(0.2)(x)\n",
    "outputs = prediction_layer(x)\n",
    "model = tf.keras.Model(inputs, outputs)\n",
    "model.compile(\n",
    "    optimizer=tf.keras.optimizers.Adam(learning_rate=0.0001),\n",
    "    loss=tf.keras.losses.SparseCategoricalCrossentropy(),\n",
    "    metrics=[\"sparse_categorical_accuracy\"],\n",
    ")\n",
    "\n",
    "model.summary()\n"
   ]
  },
  {
   "cell_type": "code",
   "execution_count": 28,
   "metadata": {
    "scrolled": true
   },
   "outputs": [
    {
     "name": "stdout",
     "output_type": "stream",
     "text": [
      "Epoch 1/100\n",
      "61/61 [==============================] - 52s 804ms/step - loss: 2.2212 - sparse_categorical_accuracy: 0.2008\n",
      "Epoch 2/100\n",
      "61/61 [==============================] - 46s 756ms/step - loss: 2.0189 - sparse_categorical_accuracy: 0.2686\n",
      "Epoch 3/100\n",
      "61/61 [==============================] - 46s 754ms/step - loss: 1.9100 - sparse_categorical_accuracy: 0.2907\n",
      "Epoch 4/100\n",
      "61/61 [==============================] - 46s 756ms/step - loss: 1.7893 - sparse_categorical_accuracy: 0.3529\n",
      "Epoch 5/100\n",
      "61/61 [==============================] - 46s 759ms/step - loss: 1.7086 - sparse_categorical_accuracy: 0.3616\n",
      "Epoch 6/100\n",
      "61/61 [==============================] - 46s 754ms/step - loss: 1.6064 - sparse_categorical_accuracy: 0.4160\n",
      "Epoch 7/100\n",
      "61/61 [==============================] - 46s 756ms/step - loss: 1.5500 - sparse_categorical_accuracy: 0.4432\n",
      "Epoch 8/100\n",
      "61/61 [==============================] - 46s 756ms/step - loss: 1.4695 - sparse_categorical_accuracy: 0.4771\n",
      "Epoch 9/100\n",
      "61/61 [==============================] - 46s 756ms/step - loss: 1.3942 - sparse_categorical_accuracy: 0.5136\n",
      "Epoch 10/100\n",
      "61/61 [==============================] - 46s 758ms/step - loss: 1.3563 - sparse_categorical_accuracy: 0.5465\n",
      "Epoch 11/100\n",
      "61/61 [==============================] - 46s 756ms/step - loss: 1.3062 - sparse_categorical_accuracy: 0.5460\n",
      "Epoch 12/100\n",
      "61/61 [==============================] - 46s 754ms/step - loss: 1.2394 - sparse_categorical_accuracy: 0.5999\n",
      "Epoch 13/100\n",
      "61/61 [==============================] - 46s 756ms/step - loss: 1.1921 - sparse_categorical_accuracy: 0.6199\n",
      "Epoch 14/100\n",
      "61/61 [==============================] - 46s 755ms/step - loss: 1.1573 - sparse_categorical_accuracy: 0.6492\n",
      "Epoch 15/100\n",
      "61/61 [==============================] - 46s 756ms/step - loss: 1.1175 - sparse_categorical_accuracy: 0.6672\n",
      "Epoch 16/100\n",
      "61/61 [==============================] - 46s 756ms/step - loss: 1.0759 - sparse_categorical_accuracy: 0.6810\n",
      "Epoch 17/100\n",
      "61/61 [==============================] - 46s 758ms/step - loss: 1.0492 - sparse_categorical_accuracy: 0.6872\n",
      "Epoch 18/100\n",
      "61/61 [==============================] - 46s 758ms/step - loss: 1.0213 - sparse_categorical_accuracy: 0.7031\n",
      "Epoch 19/100\n",
      "61/61 [==============================] - 46s 755ms/step - loss: 0.9758 - sparse_categorical_accuracy: 0.7309\n",
      "Epoch 20/100\n",
      "61/61 [==============================] - 46s 750ms/step - loss: 0.9489 - sparse_categorical_accuracy: 0.7386\n",
      "Epoch 21/100\n",
      "61/61 [==============================] - 45s 744ms/step - loss: 0.9201 - sparse_categorical_accuracy: 0.7720\n",
      "Epoch 22/100\n",
      "61/61 [==============================] - 45s 740ms/step - loss: 0.8879 - sparse_categorical_accuracy: 0.7714\n",
      "Epoch 23/100\n",
      "61/61 [==============================] - 46s 747ms/step - loss: 0.8674 - sparse_categorical_accuracy: 0.7673\n",
      "Epoch 24/100\n",
      "61/61 [==============================] - 45s 745ms/step - loss: 0.8396 - sparse_categorical_accuracy: 0.7910\n",
      "Epoch 25/100\n",
      "61/61 [==============================] - 46s 747ms/step - loss: 0.8195 - sparse_categorical_accuracy: 0.8028\n",
      "Epoch 26/100\n",
      "61/61 [==============================] - 47s 775ms/step - loss: 0.7977 - sparse_categorical_accuracy: 0.8064\n",
      "Epoch 27/100\n",
      "61/61 [==============================] - 51s 828ms/step - loss: 0.7692 - sparse_categorical_accuracy: 0.8197\n",
      "Epoch 28/100\n",
      "61/61 [==============================] - 48s 792ms/step - loss: 0.7536 - sparse_categorical_accuracy: 0.8197\n",
      "Epoch 29/100\n",
      "61/61 [==============================] - 52s 855ms/step - loss: 0.7323 - sparse_categorical_accuracy: 0.8403\n",
      "Epoch 30/100\n",
      "61/61 [==============================] - 51s 830ms/step - loss: 0.7097 - sparse_categorical_accuracy: 0.8398\n",
      "Epoch 31/100\n",
      "61/61 [==============================] - 55s 909ms/step - loss: 0.6917 - sparse_categorical_accuracy: 0.8480\n",
      "Epoch 32/100\n",
      "61/61 [==============================] - 54s 891ms/step - loss: 0.6737 - sparse_categorical_accuracy: 0.8608\n",
      "Epoch 33/100\n",
      "61/61 [==============================] - 54s 889ms/step - loss: 0.6480 - sparse_categorical_accuracy: 0.8690\n",
      "Epoch 34/100\n",
      "61/61 [==============================] - 61s 990ms/step - loss: 0.6332 - sparse_categorical_accuracy: 0.8803\n",
      "Epoch 35/100\n",
      "61/61 [==============================] - 56s 915ms/step - loss: 0.6231 - sparse_categorical_accuracy: 0.8767\n",
      "Epoch 36/100\n",
      "61/61 [==============================] - 56s 918ms/step - loss: 0.5977 - sparse_categorical_accuracy: 0.8870\n",
      "Epoch 37/100\n",
      "61/61 [==============================] - 55s 902ms/step - loss: 0.5880 - sparse_categorical_accuracy: 0.8916\n",
      "Epoch 38/100\n",
      "61/61 [==============================] - 56s 913ms/step - loss: 0.5721 - sparse_categorical_accuracy: 0.8983\n",
      "Epoch 39/100\n",
      "61/61 [==============================] - 56s 920ms/step - loss: 0.5601 - sparse_categorical_accuracy: 0.9106\n",
      "Epoch 40/100\n",
      "61/61 [==============================] - 57s 933ms/step - loss: 0.5494 - sparse_categorical_accuracy: 0.8998\n",
      "Epoch 41/100\n",
      "61/61 [==============================] - 65s 1s/step - loss: 0.5334 - sparse_categorical_accuracy: 0.9091\n",
      "Epoch 42/100\n",
      "61/61 [==============================] - 58s 954ms/step - loss: 0.5098 - sparse_categorical_accuracy: 0.9317\n",
      "Epoch 43/100\n",
      "61/61 [==============================] - 58s 957ms/step - loss: 0.5093 - sparse_categorical_accuracy: 0.9240\n",
      "Epoch 44/100\n",
      "61/61 [==============================] - 60s 987ms/step - loss: 0.4963 - sparse_categorical_accuracy: 0.9384\n",
      "Epoch 45/100\n",
      "61/61 [==============================] - 60s 976ms/step - loss: 0.4766 - sparse_categorical_accuracy: 0.9348\n",
      "Epoch 46/100\n",
      "61/61 [==============================] - 66s 1s/step - loss: 0.4664 - sparse_categorical_accuracy: 0.9440\n",
      "Epoch 47/100\n",
      "61/61 [==============================] - 67s 1s/step - loss: 0.4610 - sparse_categorical_accuracy: 0.9266\n",
      "Epoch 48/100\n",
      "61/61 [==============================] - 61s 1s/step - loss: 0.4513 - sparse_categorical_accuracy: 0.9404\n",
      "Epoch 49/100\n",
      "61/61 [==============================] - 62s 1s/step - loss: 0.4294 - sparse_categorical_accuracy: 0.9492\n",
      "Epoch 50/100\n",
      "61/61 [==============================] - 68s 1s/step - loss: 0.4255 - sparse_categorical_accuracy: 0.9502\n",
      "Epoch 51/100\n",
      "61/61 [==============================] - 64s 1s/step - loss: 0.4166 - sparse_categorical_accuracy: 0.9517\n",
      "Epoch 52/100\n",
      "61/61 [==============================] - 71s 1s/step - loss: 0.4089 - sparse_categorical_accuracy: 0.9553\n",
      "Epoch 53/100\n",
      "61/61 [==============================] - 67s 1s/step - loss: 0.3999 - sparse_categorical_accuracy: 0.9615\n",
      "Epoch 54/100\n",
      "61/61 [==============================] - 61s 994ms/step - loss: 0.3770 - sparse_categorical_accuracy: 0.9671\n",
      "Epoch 55/100\n",
      "61/61 [==============================] - 59s 972ms/step - loss: 0.3824 - sparse_categorical_accuracy: 0.9599\n",
      "Epoch 56/100\n",
      "61/61 [==============================] - 59s 968ms/step - loss: 0.3621 - sparse_categorical_accuracy: 0.9697\n",
      "Epoch 57/100\n",
      "61/61 [==============================] - 59s 966ms/step - loss: 0.3548 - sparse_categorical_accuracy: 0.9702\n",
      "Epoch 58/100\n",
      "61/61 [==============================] - 59s 968ms/step - loss: 0.3505 - sparse_categorical_accuracy: 0.9769\n",
      "Epoch 59/100\n",
      "61/61 [==============================] - 59s 966ms/step - loss: 0.3482 - sparse_categorical_accuracy: 0.9682\n",
      "Epoch 60/100\n",
      "61/61 [==============================] - 59s 967ms/step - loss: 0.3399 - sparse_categorical_accuracy: 0.9733\n",
      "Epoch 61/100\n",
      "61/61 [==============================] - 60s 980ms/step - loss: 0.3277 - sparse_categorical_accuracy: 0.9753\n",
      "Epoch 62/100\n",
      "61/61 [==============================] - 60s 987ms/step - loss: 0.3277 - sparse_categorical_accuracy: 0.9759\n",
      "Epoch 63/100\n",
      "61/61 [==============================] - 53s 868ms/step - loss: 0.3186 - sparse_categorical_accuracy: 0.9779\n",
      "Epoch 64/100\n",
      "61/61 [==============================] - 53s 868ms/step - loss: 0.3170 - sparse_categorical_accuracy: 0.9774\n",
      "Epoch 65/100\n",
      "61/61 [==============================] - 53s 864ms/step - loss: 0.3071 - sparse_categorical_accuracy: 0.9738\n",
      "Epoch 66/100\n",
      "61/61 [==============================] - 53s 871ms/step - loss: 0.2983 - sparse_categorical_accuracy: 0.9789\n",
      "Epoch 67/100\n",
      "61/61 [==============================] - 52s 849ms/step - loss: 0.2877 - sparse_categorical_accuracy: 0.9866\n",
      "Epoch 68/100\n",
      "61/61 [==============================] - 52s 845ms/step - loss: 0.2898 - sparse_categorical_accuracy: 0.9733\n",
      "Epoch 69/100\n",
      "61/61 [==============================] - 52s 844ms/step - loss: 0.2818 - sparse_categorical_accuracy: 0.9841\n",
      "Epoch 70/100\n",
      "61/61 [==============================] - 51s 843ms/step - loss: 0.2779 - sparse_categorical_accuracy: 0.9856\n",
      "Epoch 71/100\n",
      "61/61 [==============================] - 51s 842ms/step - loss: 0.2705 - sparse_categorical_accuracy: 0.9846\n",
      "Epoch 72/100\n",
      "61/61 [==============================] - 52s 853ms/step - loss: 0.2657 - sparse_categorical_accuracy: 0.9846\n",
      "Epoch 73/100\n",
      "61/61 [==============================] - 53s 873ms/step - loss: 0.2471 - sparse_categorical_accuracy: 0.9882\n",
      "Epoch 74/100\n",
      "61/61 [==============================] - 68s 1s/step - loss: 0.2514 - sparse_categorical_accuracy: 0.9902\n",
      "Epoch 75/100\n",
      "61/61 [==============================] - 66s 1s/step - loss: 0.2456 - sparse_categorical_accuracy: 0.9902\n",
      "Epoch 76/100\n",
      "61/61 [==============================] - 65s 1s/step - loss: 0.2444 - sparse_categorical_accuracy: 0.9861\n",
      "Epoch 77/100\n",
      "61/61 [==============================] - 61s 987ms/step - loss: 0.2379 - sparse_categorical_accuracy: 0.9902\n",
      "Epoch 78/100\n",
      "61/61 [==============================] - 58s 945ms/step - loss: 0.2313 - sparse_categorical_accuracy: 0.9887\n",
      "Epoch 79/100\n",
      "61/61 [==============================] - 69s 1s/step - loss: 0.2294 - sparse_categorical_accuracy: 0.9902\n",
      "Epoch 80/100\n",
      "61/61 [==============================] - 61s 1s/step - loss: 0.2241 - sparse_categorical_accuracy: 0.9913\n",
      "Epoch 81/100\n",
      "61/61 [==============================] - 59s 960ms/step - loss: 0.2115 - sparse_categorical_accuracy: 0.9928\n",
      "Epoch 82/100\n",
      "61/61 [==============================] - 59s 975ms/step - loss: 0.2072 - sparse_categorical_accuracy: 0.9913\n",
      "Epoch 83/100\n",
      "61/61 [==============================] - 58s 957ms/step - loss: 0.2058 - sparse_categorical_accuracy: 0.9928\n",
      "Epoch 84/100\n",
      "61/61 [==============================] - 59s 961ms/step - loss: 0.2064 - sparse_categorical_accuracy: 0.9913\n",
      "Epoch 85/100\n",
      "61/61 [==============================] - 59s 965ms/step - loss: 0.2009 - sparse_categorical_accuracy: 0.9938\n",
      "Epoch 86/100\n",
      "61/61 [==============================] - 59s 967ms/step - loss: 0.1977 - sparse_categorical_accuracy: 0.9933\n",
      "Epoch 87/100\n",
      "61/61 [==============================] - 59s 973ms/step - loss: 0.1912 - sparse_categorical_accuracy: 0.9918\n",
      "Epoch 88/100\n",
      "61/61 [==============================] - 66s 1s/step - loss: 0.1876 - sparse_categorical_accuracy: 0.9923\n",
      "Epoch 89/100\n",
      "61/61 [==============================] - 62s 1s/step - loss: 0.1835 - sparse_categorical_accuracy: 0.9949\n",
      "Epoch 90/100\n",
      "61/61 [==============================] - 61s 997ms/step - loss: 0.1862 - sparse_categorical_accuracy: 0.9954\n",
      "Epoch 91/100\n",
      "61/61 [==============================] - 58s 958ms/step - loss: 0.1800 - sparse_categorical_accuracy: 0.9938\n",
      "Epoch 92/100\n",
      "61/61 [==============================] - 60s 989ms/step - loss: 0.1785 - sparse_categorical_accuracy: 0.9944\n",
      "Epoch 93/100\n",
      "61/61 [==============================] - 60s 976ms/step - loss: 0.1701 - sparse_categorical_accuracy: 0.9969\n",
      "Epoch 94/100\n",
      "61/61 [==============================] - 61s 1s/step - loss: 0.1671 - sparse_categorical_accuracy: 0.9969\n",
      "Epoch 95/100\n",
      "61/61 [==============================] - 60s 985ms/step - loss: 0.1713 - sparse_categorical_accuracy: 0.9949\n",
      "Epoch 96/100\n",
      "61/61 [==============================] - 62s 1s/step - loss: 0.1645 - sparse_categorical_accuracy: 0.9954\n",
      "Epoch 97/100\n",
      "61/61 [==============================] - 62s 1s/step - loss: 0.1576 - sparse_categorical_accuracy: 0.9959\n",
      "Epoch 98/100\n",
      "61/61 [==============================] - 60s 990ms/step - loss: 0.1539 - sparse_categorical_accuracy: 0.9959\n",
      "Epoch 99/100\n",
      "61/61 [==============================] - 61s 995ms/step - loss: 0.1546 - sparse_categorical_accuracy: 0.9995\n",
      "Epoch 100/100\n",
      "61/61 [==============================] - 60s 982ms/step - loss: 0.1483 - sparse_categorical_accuracy: 0.9954\n"
     ]
    },
    {
     "data": {
      "text/plain": [
       "<keras.callbacks.History at 0x160965270>"
      ]
     },
     "execution_count": 28,
     "metadata": {},
     "output_type": "execute_result"
    }
   ],
   "source": [
    "# Uncomment this line to fit the classifier\n",
    "\n",
    "#model.fit(XY_classifier_augmented, epochs=100)\n",
    "\n",
    "model.fit(X_for_classifier,y_for_classifier, epochs=100)"
   ]
  },
  {
   "cell_type": "code",
   "execution_count": 29,
   "metadata": {},
   "outputs": [],
   "source": [
    "# Uncomment this cell to Load a previously saved model\n",
    "#MODEL_NAME_FOR_PREDICTION = \"classifier3\"\n",
    "#model = tf.keras.models.load_model(os.path.join(MODELS_FOLDER, MODEL_NAME_FOR_PREDICTION))"
   ]
  },
  {
   "cell_type": "code",
   "execution_count": 30,
   "metadata": {},
   "outputs": [],
   "source": [
    "def predict_image(image, model):\n",
    "    image = Image.fromarray(image)\n",
    "    image = image.resize((250,250))\n",
    "    image = np.array(image)\n",
    "    image = tf.reshape(image, (1,250,250))\n",
    "    pred = model.predict(image)\n",
    "    return np.argmax(pred), np.max(pred)"
   ]
  },
  {
   "cell_type": "markdown",
   "metadata": {},
   "source": [
    "### Loading test data"
   ]
  },
  {
   "cell_type": "code",
   "execution_count": 47,
   "metadata": {},
   "outputs": [],
   "source": [
    "videos_test, labels_test  = get_test_data()"
   ]
  },
  {
   "cell_type": "code",
   "execution_count": 32,
   "metadata": {},
   "outputs": [],
   "source": [
    "#videos_test, labels_test=filter(filters,videos_test, labels_test)\n",
    "\n"
   ]
  },
  {
   "cell_type": "code",
   "execution_count": 48,
   "metadata": {},
   "outputs": [
    {
     "name": "stdout",
     "output_type": "stream",
     "text": [
      "for n=  290\n",
      "x: 100\n",
      "y: 100\n",
      "for n=  291\n",
      "x: 200\n",
      "y: 200\n",
      "for n=  292\n",
      "x: 300\n",
      "y: 300\n",
      "for n=  293\n",
      "x: 400\n",
      "y: 400\n",
      "for n=  294\n",
      "x: 500\n",
      "y: 500\n",
      "for n=  295\n",
      "x: 600\n",
      "y: 600\n",
      "for n=  296\n",
      "x: 700\n",
      "y: 700\n",
      "for n=  297\n",
      "x: 800\n",
      "y: 800\n",
      "for n=  298\n",
      "x: 900\n",
      "y: 900\n",
      "for n=  299\n",
      "x: 1000\n",
      "y: 1000\n",
      "for n=  300\n",
      "x: 1100\n",
      "y: 1100\n"
     ]
    }
   ],
   "source": [
    "builtx, builty= create_dataset(290,300, videos_test, labels_test)"
   ]
  },
  {
   "cell_type": "code",
   "execution_count": 49,
   "metadata": {},
   "outputs": [],
   "source": [
    "Xtest_for_classifier = np.array(builtx)\n",
    "ytest_for_classifier = np.array(builty)"
   ]
  },
  {
   "cell_type": "code",
   "execution_count": 50,
   "metadata": {},
   "outputs": [
    {
     "data": {
      "text/plain": [
       "array(['A', 'A', 'G', ..., 'E', 'D', 'D'], dtype=object)"
      ]
     },
     "execution_count": 50,
     "metadata": {},
     "output_type": "execute_result"
    }
   ],
   "source": [
    "ytest_for_classifier"
   ]
  },
  {
   "cell_type": "code",
   "execution_count": 51,
   "metadata": {},
   "outputs": [],
   "source": [
    "grayscale_batch=Xtest_for_classifier\n",
    "rgb_batch = np.repeat(grayscale_batch[..., np.newaxis], 3, -1)"
   ]
  },
  {
   "cell_type": "code",
   "execution_count": 52,
   "metadata": {},
   "outputs": [],
   "source": [
    "ytest_for_classifier=func(ytest_for_classifier)"
   ]
  },
  {
   "cell_type": "code",
   "execution_count": 53,
   "metadata": {},
   "outputs": [
    {
     "data": {
      "text/plain": [
       "array([0, 0, 6, ..., 4, 3, 3])"
      ]
     },
     "execution_count": 53,
     "metadata": {},
     "output_type": "execute_result"
    }
   ],
   "source": [
    "ytest_for_classifier"
   ]
  },
  {
   "cell_type": "code",
   "execution_count": 54,
   "metadata": {},
   "outputs": [],
   "source": [
    "Xtest_for_classifier= rgb_batch"
   ]
  },
  {
   "cell_type": "code",
   "execution_count": 55,
   "metadata": {},
   "outputs": [
    {
     "data": {
      "text/plain": [
       "(1100, 250, 250, 3)"
      ]
     },
     "execution_count": 55,
     "metadata": {},
     "output_type": "execute_result"
    }
   ],
   "source": [
    "Xtest_for_classifier.shape"
   ]
  },
  {
   "cell_type": "code",
   "execution_count": 56,
   "metadata": {
    "scrolled": true
   },
   "outputs": [
    {
     "name": "stdout",
     "output_type": "stream",
     "text": [
      "35/35 [==============================] - 28s 778ms/step - loss: 2.8552 - sparse_categorical_accuracy: 0.2300\n",
      "Test accuracy : 0.23000000417232513\n"
     ]
    }
   ],
   "source": [
    "loss, accuracy = model.evaluate(Xtest_for_classifier, ytest_for_classifier)\n",
    "print('Test accuracy :', accuracy)"
   ]
  },
  {
   "cell_type": "code",
   "execution_count": 57,
   "metadata": {},
   "outputs": [
    {
     "data": {
      "text/plain": [
       "array([0, 5, 7, ..., 4, 7, 1])"
      ]
     },
     "execution_count": 57,
     "metadata": {},
     "output_type": "execute_result"
    }
   ],
   "source": [
    "preds = model.predict(Xtest_for_classifier)\n",
    "preds = np.argmax(preds, axis=1)\n",
    "preds"
   ]
  },
  {
   "cell_type": "code",
   "execution_count": 58,
   "metadata": {},
   "outputs": [
    {
     "data": {
      "text/plain": [
       "array([0, 0, 6, ..., 4, 3, 3])"
      ]
     },
     "execution_count": 58,
     "metadata": {},
     "output_type": "execute_result"
    }
   ],
   "source": [
    "ytest_for_classifier"
   ]
  },
  {
   "cell_type": "code",
   "execution_count": 59,
   "metadata": {},
   "outputs": [
    {
     "data": {
      "image/png": "[encoded data removed]",
      "text/plain": [
       "<Figure size 432x288 with 2 Axes>"
      ]
     },
     "metadata": {
      "needs_background": "light"
     },
     "output_type": "display_data"
    }
   ],
   "source": [
    "from sklearn.metrics import confusion_matrix, ConfusionMatrixDisplay\n",
    "con_mat = confusion_matrix(ytest_for_classifier, preds)\n",
    "disp = ConfusionMatrixDisplay(confusion_matrix=con_mat)\n",
    "disp.plot()\n",
    "plt.show()"
   ]
  },
  {
   "cell_type": "code",
   "execution_count": 45,
   "metadata": {},
   "outputs": [],
   "source": [
    "from sklearn.metrics import classification_report\n",
    "target_names = ['class 0', 'class 1']\n"
   ]
  },
  {
   "cell_type": "code",
   "execution_count": 46,
   "metadata": {
    "scrolled": true
   },
   "outputs": [
    {
     "name": "stdout",
     "output_type": "stream",
     "text": [
      "              precision    recall  f1-score   support\n",
      "\n",
      "           0       1.00      0.20      0.33       110\n",
      "           1       0.00      0.00      0.00         0\n",
      "\n",
      "   micro avg       0.50      0.20      0.29       110\n",
      "   macro avg       0.50      0.10      0.17       110\n",
      "weighted avg       1.00      0.20      0.33       110\n",
      "\n"
     ]
    },
    {
     "name": "stderr",
     "output_type": "stream",
     "text": [
      "/Users/jacobo/opt/anaconda3/envs/bovine_embryo_survival_prediction/lib/python3.10/site-packages/sklearn/metrics/_classification.py:1318: UndefinedMetricWarning: Recall and F-score are ill-defined and being set to 0.0 in labels with no true samples. Use `zero_division` parameter to control this behavior.\n",
      "  _warn_prf(average, modifier, msg_start, len(result))\n",
      "/Users/jacobo/opt/anaconda3/envs/bovine_embryo_survival_prediction/lib/python3.10/site-packages/sklearn/metrics/_classification.py:1318: UndefinedMetricWarning: Recall and F-score are ill-defined and being set to 0.0 in labels with no true samples. Use `zero_division` parameter to control this behavior.\n",
      "  _warn_prf(average, modifier, msg_start, len(result))\n",
      "/Users/jacobo/opt/anaconda3/envs/bovine_embryo_survival_prediction/lib/python3.10/site-packages/sklearn/metrics/_classification.py:1318: UndefinedMetricWarning: Recall and F-score are ill-defined and being set to 0.0 in labels with no true samples. Use `zero_division` parameter to control this behavior.\n",
      "  _warn_prf(average, modifier, msg_start, len(result))\n"
     ]
    }
   ],
   "source": [
    "print(classification_report(ytest_for_classifier, preds,labels=[0,1]))"
   ]
  },
  {
   "cell_type": "code",
   "execution_count": null,
   "metadata": {},
   "outputs": [],
   "source": []
  }
 ],
 "metadata": {
  "kernelspec": {
   "display_name": "bovine-gpu",
   "language": "python",
   "name": "bovine-gpu"
  },
  "language_info": {
   "codemirror_mode": {
    "name": "ipython",
    "version": 3
   },
   "file_extension": ".py",
   "mimetype": "text/x-python",
   "name": "python",
   "nbconvert_exporter": "python",
   "pygments_lexer": "ipython3",
   "version": "3.9.7"
  }
 },
 "nbformat": 4,
 "nbformat_minor": 4
}
