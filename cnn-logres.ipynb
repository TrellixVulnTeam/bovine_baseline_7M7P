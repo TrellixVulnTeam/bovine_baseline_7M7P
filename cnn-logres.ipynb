{
 "cells": [
  {
   "cell_type": "code",
   "execution_count": 1,
   "id": "90ce1f53",
   "metadata": {},
   "outputs": [],
   "source": [
    "from problem import get_train_data, get_test_data, WeightedClassificationError\n",
    "import matplotlib.pyplot as plt\n",
    "import numpy as np\n",
    "from sklearn import linear_model\n",
    "import sys\n",
    "import tensorflow as tf\n",
    "from time import time\n",
    "import pandas as pd\n",
    "import math\n",
    "from tensorflow import keras\n",
    "from tensorflow.keras import layers"
   ]
  },
  {
   "cell_type": "markdown",
   "id": "962803b5",
   "metadata": {},
   "source": [
    "## Datasets"
   ]
  },
  {
   "cell_type": "code",
   "execution_count": 2,
   "id": "7fb35557",
   "metadata": {},
   "outputs": [],
   "source": [
    "videos_train, labels_train = get_train_data()"
   ]
  },
  {
   "cell_type": "code",
   "execution_count": 3,
   "id": "b2929831",
   "metadata": {},
   "outputs": [],
   "source": [
    "X_for_classifier= np.array(videos_train)\n",
    "y_for_classifier= labels_train"
   ]
  },
  {
   "cell_type": "code",
   "execution_count": 7,
   "id": "8ed71be1",
   "metadata": {},
   "outputs": [],
   "source": [
    "videos_test, labels_test  = get_test_data()"
   ]
  },
  {
   "cell_type": "code",
   "execution_count": 8,
   "id": "d6049fc3",
   "metadata": {},
   "outputs": [],
   "source": [
    "Xtest_for_classifier = np.array(videos_test)\n",
    "ytest_for_classifier = labels_test"
   ]
  },
  {
   "cell_type": "code",
   "execution_count": 9,
   "id": "dd5d0ac3",
   "metadata": {},
   "outputs": [],
   "source": [
    "from PIL import Image\n",
    "\n",
    "def resize_frames(video):\n",
    "    res=[]\n",
    "    for frame in video:\n",
    "        resized_img=Image.fromarray(frame).resize((224,224))\n",
    "        res.append(np.array(resized_img))\n",
    "    return np.array(res)"
   ]
  },
  {
   "cell_type": "code",
   "execution_count": 10,
   "id": "eaa03488",
   "metadata": {},
   "outputs": [],
   "source": [
    "#function that gets all dataset\n",
    "# 30 frames per video for 177 video = 2.65 gb !if considering each frame of float64\n",
    "# as uint8 it takes 0.33 gb\n",
    "\n",
    "def gen_videos(videolist):\n",
    "    newvideos=[] # 177*30*250*250\n",
    "    for video in videolist:\n",
    "        reducedvideo= video.read_samples(video.frame_times[0:299:10])\n",
    "        #resize from 250 to 224\n",
    "        reducedvideo=resize_frames(reducedvideo)    \n",
    "\n",
    "        newvideos.append(reducedvideo)\n",
    "    return newvideos"
   ]
  },
  {
   "cell_type": "code",
   "execution_count": 11,
   "id": "05a9b750",
   "metadata": {},
   "outputs": [
    {
     "data": {
      "text/plain": [
       "(177, 30, 224, 224, 3)"
      ]
     },
     "execution_count": 11,
     "metadata": {},
     "output_type": "execute_result"
    }
   ],
   "source": [
    "X_for_classifier= np.array(gen_videos(X_for_classifier))\n",
    "X_for_classifier = np.repeat(X_for_classifier[...,np.newaxis], 3, -1)\n",
    "\n",
    "X_for_classifier.shape"
   ]
  },
  {
   "cell_type": "code",
   "execution_count": 12,
   "id": "b428daf8",
   "metadata": {},
   "outputs": [
    {
     "data": {
      "text/plain": [
       "(100, 30, 224, 224, 3)"
      ]
     },
     "execution_count": 12,
     "metadata": {},
     "output_type": "execute_result"
    }
   ],
   "source": [
    "Xtest_for_classifier= np.array(gen_videos(Xtest_for_classifier))\n",
    "Xtest_for_classifier = np.repeat(Xtest_for_classifier[...,np.newaxis], 3, -1)\n",
    "\n",
    "Xtest_for_classifier.shape"
   ]
  },
  {
   "cell_type": "markdown",
   "id": "71509961",
   "metadata": {},
   "source": [
    "## Tools"
   ]
  },
  {
   "cell_type": "code",
   "execution_count": 13,
   "id": "efed9473",
   "metadata": {},
   "outputs": [],
   "source": [
    "def class_to_int(argument):\n",
    "    switcher = {\n",
    "        'A':0,\n",
    "        'B':1,\n",
    "        'C':2,\n",
    "        'D':3,\n",
    "        'E':4,\n",
    "        'F':5,\n",
    "        'G':6,\n",
    "        'H':7,\n",
    "    }\n",
    "    return switcher.get(argument, \"nothing\")\n",
    "\n",
    "def int_to_class(argument):\n",
    "    switcher = {\n",
    "        0:'A',\n",
    "        1:'B',\n",
    "        2:'C',\n",
    "        3:'D',\n",
    "        4:'E',\n",
    "        5:'F',\n",
    "        6:'G',\n",
    "        7:'H',\n",
    "    }\n",
    "    return switcher.get(argument, \"nothing\")\n",
    "\n",
    "\n",
    "func=np.vectorize(class_to_int)\n",
    "#Train\n",
    "train_labels=func(y_for_classifier)\n",
    "#Test\n",
    "test_labels=func(ytest_for_classifier)"
   ]
  },
  {
   "cell_type": "markdown",
   "id": "503b1698",
   "metadata": {},
   "source": [
    "## Feature extractor"
   ]
  },
  {
   "cell_type": "code",
   "execution_count": 14,
   "id": "7475bb01",
   "metadata": {},
   "outputs": [],
   "source": [
    "# Builds the MobileNetV2 based feature extractor that will be applied to every frame\n",
    "\n",
    "def build_extractor():\n",
    "    # Image shape for classifier\n",
    "    IMG_SHAPE = (224,224,3)\n",
    "\n",
    "    # Building of a classification model\n",
    "    feature_extractor = tf.keras.applications.MobileNetV2(\n",
    "            input_shape=IMG_SHAPE, include_top=False, weights=\"imagenet\"\n",
    "        )\n",
    "    feature_extractor.trainable = False\n",
    "    inputs = tf.keras.Input(shape=IMG_SHAPE)\n",
    "    preprocess_input = tf.keras.applications.mobilenet_v2.preprocess_input\n",
    "    \n",
    "    global_average_layer = tf.keras.layers.GlobalAveragePooling2D()\n",
    "    #prediction_layer = tf.keras.layers.Dense(8, activation=\"softmax\")\n",
    "    \n",
    "    x = preprocess_input(inputs)\n",
    "    x = feature_extractor(x, training=False)\n",
    "    \n",
    "    x = global_average_layer(x)\n",
    "    outputs = tf.keras.layers.Dropout(0.2)(x)\n",
    "\n",
    "    model = tf.keras.Model(inputs, outputs)\n",
    "    model.compile(\n",
    "        optimizer=tf.keras.optimizers.Adam(learning_rate=0.0001),\n",
    "        loss=tf.keras.losses.SparseCategoricalCrossentropy(),\n",
    "        metrics=[\"sparse_categorical_accuracy\"],\n",
    "    )\n",
    "    return model"
   ]
  },
  {
   "cell_type": "code",
   "execution_count": 15,
   "id": "938527b5",
   "metadata": {},
   "outputs": [],
   "source": [
    "feature_extractor=build_extractor()"
   ]
  },
  {
   "cell_type": "code",
   "execution_count": 16,
   "id": "11b48819",
   "metadata": {
    "scrolled": true
   },
   "outputs": [
    {
     "name": "stdout",
     "output_type": "stream",
     "text": [
      "Model: \"model\"\n",
      "_________________________________________________________________\n",
      " Layer (type)                Output Shape              Param #   \n",
      "=================================================================\n",
      " input_2 (InputLayer)        [(None, 224, 224, 3)]     0         \n",
      "                                                                 \n",
      " tf.math.truediv (TFOpLambda  (None, 224, 224, 3)      0         \n",
      " )                                                               \n",
      "                                                                 \n",
      " tf.math.subtract (TFOpLambd  (None, 224, 224, 3)      0         \n",
      " a)                                                              \n",
      "                                                                 \n",
      " mobilenetv2_1.00_224 (Funct  (None, 7, 7, 1280)       2257984   \n",
      " ional)                                                          \n",
      "                                                                 \n",
      " global_average_pooling2d (G  (None, 1280)             0         \n",
      " lobalAveragePooling2D)                                          \n",
      "                                                                 \n",
      " dropout (Dropout)           (None, 1280)              0         \n",
      "                                                                 \n",
      "=================================================================\n",
      "Total params: 2,257,984\n",
      "Trainable params: 0\n",
      "Non-trainable params: 2,257,984\n",
      "_________________________________________________________________\n"
     ]
    }
   ],
   "source": [
    "feature_extractor.summary()"
   ]
  },
  {
   "cell_type": "markdown",
   "id": "8cb81929",
   "metadata": {},
   "source": [
    "### Feature extraction example"
   ]
  },
  {
   "cell_type": "code",
   "execution_count": 17,
   "id": "a1ba7cac",
   "metadata": {},
   "outputs": [
    {
     "data": {
      "text/plain": [
       "(177, 30, 224, 224, 3)"
      ]
     },
     "execution_count": 17,
     "metadata": {},
     "output_type": "execute_result"
    }
   ],
   "source": [
    "X_for_classifier.shape"
   ]
  },
  {
   "cell_type": "code",
   "execution_count": 18,
   "id": "fce1d39e",
   "metadata": {},
   "outputs": [
    {
     "data": {
      "text/plain": [
       "(1, 224, 224, 3)"
      ]
     },
     "execution_count": 18,
     "metadata": {},
     "output_type": "execute_result"
    }
   ],
   "source": [
    "X_for_classifier[1][1][None,:,:].shape"
   ]
  },
  {
   "cell_type": "code",
   "execution_count": 19,
   "id": "fcff9ad0",
   "metadata": {},
   "outputs": [
    {
     "name": "stdout",
     "output_type": "stream",
     "text": [
      "1/1 [==============================] - 3s 3s/step\n"
     ]
    }
   ],
   "source": [
    "# Feature extraction example:\n",
    "example= X_for_classifier[1][1][None,:,:,:]\n",
    "f1=feature_extractor.predict(example)"
   ]
  },
  {
   "cell_type": "code",
   "execution_count": 20,
   "id": "361d4473",
   "metadata": {},
   "outputs": [
    {
     "data": {
      "text/plain": [
       "(1280,)"
      ]
     },
     "execution_count": 20,
     "metadata": {},
     "output_type": "execute_result"
    }
   ],
   "source": [
    "np.squeeze(f1).shape"
   ]
  },
  {
   "cell_type": "code",
   "execution_count": 21,
   "id": "7f4fed77",
   "metadata": {},
   "outputs": [
    {
     "data": {
      "text/plain": [
       "3.8005023"
      ]
     },
     "execution_count": 21,
     "metadata": {},
     "output_type": "execute_result"
    }
   ],
   "source": [
    "f1.max() #min is 0"
   ]
  },
  {
   "cell_type": "markdown",
   "id": "27042c6e",
   "metadata": {},
   "source": [
    "## Extracting features of the train and test dataset"
   ]
  },
  {
   "cell_type": "code",
   "execution_count": 22,
   "id": "d830891b",
   "metadata": {},
   "outputs": [],
   "source": [
    "pred_times = [27, 32, 37, 40, 44, 48, 53, 58, 63, 94, None]"
   ]
  },
  {
   "cell_type": "code",
   "execution_count": 23,
   "id": "350302ed",
   "metadata": {},
   "outputs": [],
   "source": [
    "#hardcoding the frames selected. In reality the frame corresponding to a pred time varies from vid to vid as t0 varies.\n",
    "def timeToFrame(argument):\n",
    "    switcher = {\n",
    "        27: 0,\n",
    "        32:2,\n",
    "        37:5,\n",
    "        40:8,\n",
    "        44:11,\n",
    "        48:14,\n",
    "        53:17,\n",
    "        58:20,\n",
    "        63:23,\n",
    "        94:26,\n",
    "        None: 29\n",
    "    }\n",
    "    return switcher.get(argument, \"nothing\")\n",
    "    "
   ]
  },
  {
   "cell_type": "code",
   "execution_count": 24,
   "id": "bd90021a",
   "metadata": {},
   "outputs": [],
   "source": [
    "def extract_features(dataset, predtime):\n",
    "    n= timeToFrame(predtime)\n",
    "    #extracting the f map\n",
    "    featmap=[]\n",
    "    for i in range(dataset.shape[0]):  # num of videos in ds\n",
    "        f1=feature_extractor.predict(dataset[i][n][None,:,:], verbose='false') # ith video, nth frame\n",
    "        featmap.append(f1)\n",
    "    return featmap"
   ]
  },
  {
   "cell_type": "markdown",
   "id": "400cbd09",
   "metadata": {},
   "source": [
    "### example for the 300th frame"
   ]
  },
  {
   "cell_type": "code",
   "execution_count": 25,
   "id": "3f40d820",
   "metadata": {},
   "outputs": [],
   "source": [
    "train_featmap300= extract_features(X_for_classifier,None)"
   ]
  },
  {
   "cell_type": "code",
   "execution_count": 26,
   "id": "5cd62135",
   "metadata": {},
   "outputs": [
    {
     "data": {
      "text/plain": [
       "(177, 1, 1280)"
      ]
     },
     "execution_count": 26,
     "metadata": {},
     "output_type": "execute_result"
    }
   ],
   "source": [
    "np.array(train_featmap300).shape"
   ]
  },
  {
   "cell_type": "markdown",
   "id": "43b7b6a8",
   "metadata": {},
   "source": [
    "## Building the 11 models"
   ]
  },
  {
   "cell_type": "code",
   "execution_count": 28,
   "id": "c57c92c0",
   "metadata": {},
   "outputs": [],
   "source": [
    "pred_times = [27, 32, 37, 40, 44, 48, 53, 58, 63, 94, None]"
   ]
  },
  {
   "cell_type": "code",
   "execution_count": 29,
   "id": "4f791625",
   "metadata": {},
   "outputs": [],
   "source": [
    "def build_11_models():\n",
    "    models=[]\n",
    "    for time in pred_times:\n",
    "        fmap=extract_features(X_for_classifier, time)\n",
    "        X_train= np.array(fmap).squeeze()\n",
    "        y_train=np.array(train_labels)\n",
    "        # defining the classifier\n",
    "        lr = linear_model.LogisticRegression(multi_class='ovr', solver='liblinear')\n",
    "        lr.fit(X_train, y_train)\n",
    "        \n",
    "        models.append(lr)\n",
    "    return models"
   ]
  },
  {
   "cell_type": "code",
   "execution_count": 30,
   "id": "1d0a8e3a",
   "metadata": {},
   "outputs": [],
   "source": [
    "models= build_11_models()"
   ]
  },
  {
   "cell_type": "code",
   "execution_count": 31,
   "id": "bc343578",
   "metadata": {},
   "outputs": [
    {
     "data": {
      "text/plain": [
       "(11,)"
      ]
     },
     "execution_count": 31,
     "metadata": {},
     "output_type": "execute_result"
    }
   ],
   "source": [
    "np.array(models).shape"
   ]
  },
  {
   "cell_type": "markdown",
   "id": "724ddd5e",
   "metadata": {},
   "source": [
    "## Testing the 11 models"
   ]
  },
  {
   "cell_type": "code",
   "execution_count": 32,
   "id": "cdeca9cc",
   "metadata": {},
   "outputs": [],
   "source": [
    "test_fmaps=[]\n",
    "for time in pred_times:\n",
    "    testfmap=extract_features(Xtest_for_classifier, time)\n",
    "    test_fmaps.append(testfmap)"
   ]
  },
  {
   "cell_type": "code",
   "execution_count": 33,
   "id": "01ea89f5",
   "metadata": {},
   "outputs": [
    {
     "data": {
      "text/plain": [
       "(11, 100, 1, 1280)"
      ]
     },
     "execution_count": 33,
     "metadata": {},
     "output_type": "execute_result"
    }
   ],
   "source": [
    "np.array(test_fmaps).shape"
   ]
  },
  {
   "cell_type": "code",
   "execution_count": 34,
   "id": "f6aa1097",
   "metadata": {},
   "outputs": [],
   "source": [
    "pred_probas=[]\n",
    "for i in range(11):\n",
    "    \n",
    "    X_test= np.array(test_fmaps[i]).squeeze()\n",
    "    Y_test= np.array(test_labels)\n",
    "    \n",
    "    predproba=models[i].predict_proba(X_test)\n",
    "    pred_probas.append(predproba)"
   ]
  },
  {
   "cell_type": "code",
   "execution_count": 35,
   "id": "84d4c749",
   "metadata": {},
   "outputs": [
    {
     "name": "stdout",
     "output_type": "stream",
     "text": [
      "0 27\n",
      "1 32\n",
      "2 37\n",
      "3 40\n",
      "4 44\n",
      "5 48\n",
      "6 53\n",
      "7 58\n",
      "8 63\n",
      "9 94\n",
      "10 None\n"
     ]
    }
   ],
   "source": [
    "for time_idx, my_pred_time in enumerate(pred_times):\n",
    "    print(time_idx, my_pred_time)"
   ]
  },
  {
   "cell_type": "code",
   "execution_count": 36,
   "id": "2070ffdd",
   "metadata": {
    "scrolled": true
   },
   "outputs": [
    {
     "data": {
      "text/plain": [
       "(100, 8)"
      ]
     },
     "execution_count": 36,
     "metadata": {},
     "output_type": "execute_result"
    }
   ],
   "source": [
    "np.array(pred_probas[0]).shape"
   ]
  },
  {
   "cell_type": "code",
   "execution_count": 77,
   "id": "3f3fdffc",
   "metadata": {},
   "outputs": [],
   "source": [
    "wces=[]\n",
    "for i in range(11):\n",
    "    wce = WeightedClassificationError(time_idx=i)\n",
    "    res= wce.compute(y_true=test_labels, y_pred=pred_probas[i])\n",
    "    wces.append(res)"
   ]
  },
  {
   "cell_type": "code",
   "execution_count": 78,
   "id": "395fa171",
   "metadata": {
    "scrolled": false
   },
   "outputs": [
    {
     "name": "stdout",
     "output_type": "stream",
     "text": [
      "WCE at time 0: 0.6940000000000001\n",
      "WCE at time 1: 0.7020000000000001\n",
      "WCE at time 2: 0.7190000000000001\n",
      "WCE at time 3: 0.665\n",
      "WCE at time 4: 0.6559999999999999\n",
      "WCE at time 5: 0.7190000000000001\n",
      "WCE at time 6: 0.6780000000000002\n",
      "WCE at time 7: 0.687\n",
      "WCE at time 8: 0.696\n",
      "WCE at time 9: 0.674\n",
      "WCE at time 10: 0.627\n"
     ]
    }
   ],
   "source": [
    "for i, wce in enumerate(wces):\n",
    "    print(f\"WCE at time {i}: {wce}\")"
   ]
  },
  {
   "cell_type": "code",
   "execution_count": 86,
   "id": "e34fcc82",
   "metadata": {
    "scrolled": true
   },
   "outputs": [
    {
     "data": {
      "image/png": "[encoded data removed]",
      "text/plain": [
       "<Figure size 432x288 with 1 Axes>"
      ]
     },
     "metadata": {},
     "output_type": "display_data"
    }
   ],
   "source": [
    "ys = wces\n",
    "xs = ['27', '32', '37', '40', '44', '48', '53', '58', '63', '94', 'None']\n",
    "s=[0.76,0.76,0.76,0.76,0.76,0.76,0.76,0.76,0.76,0.76,0.76]\n",
    "\n",
    "plt.plot(xs, ys)\n",
    "plt.plot(xs,s)\n",
    "plt.show()\n",
    "\n",
    "plt.close()"
   ]
  }
 ],
 "metadata": {
  "kernelspec": {
   "display_name": "bovine-gpu",
   "language": "python",
   "name": "bovine-gpu"
  },
  "language_info": {
   "codemirror_mode": {
    "name": "ipython",
    "version": 3
   },
   "file_extension": ".py",
   "mimetype": "text/x-python",
   "name": "python",
   "nbconvert_exporter": "python",
   "pygments_lexer": "ipython3",
   "version": "3.9.7"
  }
 },
 "nbformat": 4,
 "nbformat_minor": 5
}
